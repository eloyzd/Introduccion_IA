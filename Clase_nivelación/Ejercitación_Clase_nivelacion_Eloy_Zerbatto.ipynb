{
  "cells": [
    {
      "cell_type": "markdown",
      "metadata": {
        "id": "2F18f75K0RXd"
      },
      "source": [
        "# Capacitación Semillero DISW: Curso Python\n",
        "# Clase 1\n",
        "\n"
      ]
    },
    {
      "cell_type": "markdown",
      "metadata": {
        "id": "5o4r9UTv2hlh"
      },
      "source": [
        "## Ejercicios \n",
        "\n",
        "\n"
      ]
    },
    {
      "cell_type": "markdown",
      "metadata": {
        "id": "-FxIKiWM2j0V"
      },
      "source": [
        "### Ejercicio 1\n",
        "Crear un programa que pida al usuario que ingrese su nombre y edad, y luego muestre por pantalla un mensaje que diga \"<nombre> cumplirá 100 años en <año>. \" "
      ]
    },
    {
      "cell_type": "code",
      "execution_count": null,
      "metadata": {
        "colab": {
          "base_uri": "https://localhost:8080/"
        },
        "id": "1_iepk4X0PSe",
        "outputId": "800030ec-41b0-4de9-e572-26a124c6c560"
      },
      "outputs": [
        {
          "name": "stdout",
          "output_type": "stream",
          "text": [
            "¿Cuál es tu nombre?: Eloy\n",
            "¿Cuátos años tenes?: 34\n",
            "cumplirá 100 años en 2088\n"
          ]
        }
      ],
      "source": [
        "name = input(\"¿Cuál es tu nombre?: \")\n",
        "age = int(input(\"¿Cuátos años tenes?: \"))\n",
        "print('Cumplirá 100 años en {}'.format(100 - age + 2022))"
      ]
    },
    {
      "cell_type": "markdown",
      "metadata": {
        "id": "CELk9RRf2XbO"
      },
      "source": [
        "### Ejercicio 2\n",
        "Dada una lista, pedir al usuario que ingrese un valor umbral y devolver todos los valores de la lista menores al elegido por el usuario. "
      ]
    },
    {
      "cell_type": "code",
      "execution_count": 1,
      "metadata": {
        "colab": {
          "base_uri": "https://localhost:8080/"
        },
        "id": "VduEFfb72KOW",
        "outputId": "d371094e-06bc-4307-f710-4d77fc2e5f50"
      },
      "outputs": [
        {
          "name": "stdout",
          "output_type": "stream",
          "text": [
            "[2, 3, -2]\n"
          ]
        }
      ],
      "source": [
        "umbral = int(input(\"Ingrese valor umbral: \"))\n",
        "lista = [52,10,2,3,6,7,-2,5,8]\n",
        "new_list = [e for e in lista if e < umbral]\n",
        "print(new_list)"
      ]
    },
    {
      "cell_type": "markdown",
      "metadata": {
        "id": "Ty41DiXBDpjg"
      },
      "source": [
        "### Ejercicio 3 \n",
        "Dadas dos listas, por ejemplo:\n",
        "\n",
        "  a = [1, 1, 2, 3, 5, 8, 13, 21, 34, 55, 89]\n",
        "  b = [1, 2, 3, 4, 5, 6, 7, 8, 9, 10, 11, 12, 13]\n",
        "\n",
        "escribir un programa que devuelva una lista que contenga únicamente los valores comunes entre ambdas listas. "
      ]
    },
    {
      "cell_type": "code",
      "execution_count": null,
      "metadata": {
        "colab": {
          "base_uri": "https://localhost:8080/"
        },
        "id": "Kuw62Hx0QikR",
        "outputId": "6781a3dc-79cc-454d-882f-c26cdc8d5efa"
      },
      "outputs": [
        {
          "name": "stdout",
          "output_type": "stream",
          "text": [
            "100000 loops, best of 5: 3.97 µs per loop\n",
            "{1, 2, 3, 5, 8, 13}\n",
            "The slowest run took 7.04 times longer than the fastest. This could mean that an intermediate result is being cached.\n",
            "1000000 loops, best of 5: 1.01 µs per loop\n",
            "{1, 2, 3, 5, 8, 13}\n"
          ]
        }
      ],
      "source": [
        "import timeit\n",
        "\n",
        "a = [1, 1, 2, 3, 5, 8, 13, 21, 34, 55, 89]\n",
        "b = [1, 2, 3, 4, 5, 6, 7, 8, 9, 10, 11, 12, 13]\n",
        "\n",
        "# Option 1\n",
        "%timeit c =  [e for e in a if (e in a) & (e in b)]\n",
        "print(c)\n",
        "\n",
        "# Option 2\n",
        "%timeit c =  set(a) & set(b)\n",
        "print(c)"
      ]
    },
    {
      "cell_type": "markdown",
      "metadata": {
        "id": "OIlzOrIY4UUJ"
      },
      "source": [
        "### Ejercicio 4\n",
        "Concatenar lo siguientes 3 diccionarios para crear uno nuevo:\n",
        "\n",
        "dict1 = {1:10,2:20,3:30}\n",
        "\n",
        "dict2 = {3:30, 4:40}\n",
        "\n",
        "dict3 = {5:50}"
      ]
    },
    {
      "cell_type": "code",
      "execution_count": 10,
      "metadata": {
        "colab": {
          "base_uri": "https://localhost:8080/"
        },
        "id": "dxuibKcvS9Hf",
        "outputId": "0cb0154b-c8ce-4588-8083-1d8628a41551"
      },
      "outputs": [
        {
          "name": "stdout",
          "output_type": "stream",
          "text": [
            "{1: 10, 2: 20, 3: 30, 4: 40, 5: 50}\n"
          ]
        }
      ],
      "source": [
        "dict1 = {1:10,2:20,3:30}\n",
        "dict2 = {3:30, 4:40}\n",
        "dict3 = {5:50}\n",
        "dict4 = {**dict1, **dict2, **dict3}\n",
        "print(dict4)\n",
        "\n",
        "# Consulta, no me queda claro como se desempaqueta **dict, y en que contexto lo utilizaría.\n",
        "\n",
        "\n"
      ]
    },
    {
      "cell_type": "markdown",
      "metadata": {
        "id": "rT5_aANJ7Jwc"
      },
      "source": [
        "### Ejercicio 5\n",
        "A partir del diccionario creado en el ejercicio 4, crear un iterador que barra los pares (*key*, *value*). Imprimir por pantalla ambos valores."
      ]
    },
    {
      "cell_type": "code",
      "execution_count": null,
      "metadata": {
        "colab": {
          "base_uri": "https://localhost:8080/"
        },
        "id": "Or1HMRBtNzy4",
        "outputId": "83c019cc-7692-443d-8842-d850012191f1"
      },
      "outputs": [
        {
          "name": "stdout",
          "output_type": "stream",
          "text": [
            "1 10\n",
            "2 20\n",
            "3 30\n",
            "4 40\n",
            "5 50\n"
          ]
        }
      ],
      "source": [
        "for (i,k) in dict4.items():\n",
        "  print(i,k)"
      ]
    },
    {
      "cell_type": "markdown",
      "metadata": {
        "id": "pGoXCEcY8TV7"
      },
      "source": [
        "### Ejercicio 6\n",
        "Escribir un script que dados ds diccionarios, los unifique en uno sólo, obteniendo la suma de los valores para los *keys* repetidos.\n",
        "\n",
        "dict1 = {'a':1, 'b':5, 'c': 10}\n",
        "\n",
        "dict2 = {'a':2, 'c': 1, 'd':3} "
      ]
    },
    {
      "cell_type": "code",
      "execution_count": null,
      "metadata": {
        "id": "OelP6vS1N0eQ"
      },
      "outputs": [],
      "source": [
        "dict1 = {'a':1, 'b':5, 'c': 10}\n",
        "dict2 = {'a':2, 'c': 1, 'd':3} "
      ]
    },
    {
      "cell_type": "markdown",
      "metadata": {
        "id": "Ylu5sWkj3b6p"
      },
      "source": [
        "### Ejercicio 7\n",
        "Implemenar un juego de *piedra papel o tijera* para dos jugarodres. Pedir a los usuarios en que ingresen su jugada. \n",
        "Las reglas son:\n",
        "- Piedra le gana a tijera\n",
        "- Papel le gana a piedra\n",
        "- Tijera le gana a papel\n",
        "- El juego termina cuando gana alguno de los dos jugadores"
      ]
    },
    {
      "cell_type": "code",
      "execution_count": null,
      "metadata": {
        "id": "lt0bIk90N1N_"
      },
      "outputs": [],
      "source": [
        "P1 = int(input(\"Ingrese juagda Player 1: \"))\n",
        "P2 = int(input(\"Ingrese juagda Player 2: \"))"
      ]
    },
    {
      "cell_type": "markdown",
      "metadata": {
        "id": "FD57njwDFdTl"
      },
      "source": [
        "### Ejercicio 8\n",
        "\n",
        "Implementar el juego \"ahorcado\". Para ello el jugador 1 ingresa una palabra. Luego el jugador 2 debe ir adivinando las letras que lo componen. \n",
        "Escribir una función que maneje el desarrollo del juego, que tome como entrada la palabra elegida por el jugador 1. El juego termina cuando el jugador 2 acierta la palabra o usa una cantidad de intentos mayor a 15. "
      ]
    },
    {
      "cell_type": "code",
      "execution_count": null,
      "metadata": {
        "id": "jxYCTP0bN143"
      },
      "outputs": [],
      "source": []
    },
    {
      "cell_type": "markdown",
      "metadata": {
        "id": "Tbzci-QrGfbg"
      },
      "source": [
        "### Ejercicio 9\n",
        "El objetivo es crear una *aplicación* que permita manejar el presupuesto y gastos de una persona. Para ello vamos a usar un enfoque de programación orientada a objeto. \n",
        "\n",
        "Crear un clase `Categoría`. Debería permitir instanciar distintas categorías del presupuesto, como alimentos, vestimenta, entretenimiento. La clase debe incluir un atributo `contabilidad` que sea de tipo lista. Además la clase deberá contener los siguientes métodos:\n",
        " - `deposito`: recibe un monto y una descripción. Si no se da ninguna descripción por defecto debe completarse con un string vacío. Además debe agregar a la lista `contabilidad` un objeto de la forma `{'cantidad': cantidad, 'descripcion':descripcion}`\n",
        " - `extraccion`: similar a depósito. Si no hay fondos suficientes, no se debe ejecutar la operación, y no debe agregarse nada a  `contabilidad`. En caso de haber fondos suficientes, el objeto a agregar a `contabilidad` debe contemplar el monto con signo negativo (egreso). El método debería devolver `True` si se ejecutó la operación `False` si no.\n",
        " - `obtener_balance`: devuelve el balance actual de la categoría basado en los depósitos y extracciones que se hayan producido.\n",
        " - `transferencia`: acepta un monto y el nombre de otra categoría del presupuesto como argumentos. Este método transfiere plata de una categoría a la otra. Se debe represetar con una `extracción` y un `depósito` en las catergorías que corresponda, con la descripción \"Transf. a Categoría destinp\" y \"Trans. de Categoría destino\". Nuevamente si no alcanzan los fondos no se ejecuta la operación y devuelve `False`, en caso contrario devuelve `True`. \n",
        " - `verificar_fondos`:  acepta como argumento un mnonto. Devuelve `True` si se dispone de fondos suficientes (si el balance de la categoría es mayor al monto ingresado), `False` en caso contrario. Debería ser utilizado por los metodos `transferencia` y `extracción`. \n",
        "\n",
        "Cuando se imprime el objeto `presupuesto` debería mostrar:\n",
        "\n",
        "  Un titulo de 30 caracteres con el nombre de la categoría centrado entre *. \n",
        "\n",
        "  Una lista de los items en la contabilidad. Cada línea debe mosrar los primeros 20 caracteres de la descripción y luego el monto, con dos decimales. \n",
        "\n",
        "  Una línea mostrando el total de la categoría\n",
        "\n",
        "Por ejemplo:\n",
        "```\n",
        "*************Alimentos*************\n",
        "deposito inicial        1000.00\n",
        "alimentos               -10.15\n",
        "restaurant y mas com -15.89\n",
        "Transf. a Vestimenta    -50.00\n",
        "Total: 923.96\n",
        "```\n",
        "\n",
        "Además de la clase Categoría, crear una función llamada `crear_tabla_gastos` que tome como argumento una lista de categoría. Debe devolver un *string* que sea un diagrama de barras.\n",
        "\n",
        "La gráfica debe mostrar el porcentage gastado en cada categoría que se le pasa a la función. Dicho porcentaje se calcula únicamente sobre las extracciones. Un ejemplo sería\n",
        "```\n",
        "Porcentaje usado por categoría\n",
        "100|          \n",
        " 90|          \n",
        " 80|          \n",
        " 70|          \n",
        " 60| o        \n",
        " 50| o        \n",
        " 40| o        \n",
        " 30| o        \n",
        " 20| o  o     \n",
        " 10| o  o  o  \n",
        "  0| o  o  o  \n",
        "    ----------\n",
        "     A  V  A  \n",
        "     l  e  u  \n",
        "     i  s  t  \n",
        "     m  t  o\n",
        "     e  i\n",
        "     n  m\n",
        "     t  e\n",
        "     o  n\n",
        "     s  t   \n",
        "        a     \n",
        "``` \n",
        "             \n",
        "             \n",
        "\n"
      ]
    },
    {
      "cell_type": "code",
      "execution_count": 16,
      "metadata": {},
      "outputs": [],
      "source": [
        "class Presupuesto():\n",
        "    \"\"\"\n",
        "    Un objeto presupuesto es una coleccion de objetos de tipo categoria.\n",
        "    La clase presupuesto adicionalmente tiene definidos metodos para mostrar graficamente\n",
        "    el estado de las categorias segun sus extracciones\n",
        "    \"\"\"\n",
        "    \n",
        "    categorias = {}\n",
        "\n",
        "    def __init__(self):\n",
        "        pass\n",
        "    \n",
        "    def __str__(self):\n",
        "        \"\"\"\n",
        "        Overload del metodo print para el objeto Presupeusto\n",
        "        \"\"\"\n",
        "        output = ''\n",
        "        for k in self.categorias.keys():\n",
        "            nombre = self.categorias[k].nombre\n",
        "            output += \"{:*^30}\\n\".format(self.categorias[k].nombre)\n",
        "            for movimiento in self.categorias[k].contabilidad:\n",
        "                output += '{:<20} {:>9}\\n'.format(movimiento['descripcion'][0:20],movimiento['cantidad'])\n",
        "            output += 'Total: {}\\n\\n'.format(self.categorias[k].obtener_balance())\n",
        "        return output\n",
        "\n",
        "\n",
        "    def nueva_categoria(self,nombre_categoria, deposito_inicial):\n",
        "        \"\"\"\n",
        "        Este metodo agrega una nueva categoria al objeto presupuesto. \n",
        "        El argumento 'deposito inicial' indica el monto inicial para esa categoria y se registrara\n",
        "        en la contabilidad de esta categoria con esa leyenda.\n",
        "        \"\"\"\n",
        "        if nombre_categoria in self.categorias.keys():\n",
        "            print('Esta categoria ya existe. Intente con una diferente')\n",
        "        else:\n",
        "            self.categorias.update({str(nombre_categoria) : Categoria(nombre_categoria,deposito_inicial)})\n",
        "\n",
        "    def crear_tabla_de_gastos(self):\n",
        "        \"\"\"\n",
        "        Metodo de la clase Presupuesto que genera una tabla string mostrando el porcentaje de\n",
        "        extracciones por categoria existente.\n",
        "        \"\"\"\n",
        "\n",
        "        #Calculo de los gastos porcentuales\n",
        "        gasto_acum = 0\n",
        "        gasto_total = 0\n",
        "        gastos_por_categoria = []\n",
        "        for k in self.categorias.keys():\n",
        "            for movimiento in self.categorias[k].contabilidad:\n",
        "                if (movimiento['cantidad'] < 0) and not('Transf. ' in movimiento['descripcion']):\n",
        "                    gasto_acum += -movimiento['cantidad']\n",
        "                    gasto_total += -movimiento['cantidad']\n",
        "            gastos_por_categoria.append(float(gasto_acum))\n",
        "            gasto_acum = 0\n",
        "\n",
        "        # normalizacion del tamano de los nombres de las categorias\n",
        "        cantgastos_por_categoria_perc = [int(g/gasto_total*100) for g in gastos_por_categoria]\n",
        "        nom_cat = list(self.categorias.keys())\n",
        "        max_len_nombres = max([len(e) for e in nom_cat ])\n",
        "        nom_cat_norm = [s.ljust(max_len_nombres, ' ') for s in nom_cat]\n",
        "\n",
        "        # Grafico de barras\n",
        "        for porcentaje in (range(100,-10,-10)):\n",
        "            num=str(porcentaje)\n",
        "            a = [' ']*(len(cantgastos_por_categoria_perc)*3 + 4)\n",
        "            a[3-len(list(num)):3] = list(num)\n",
        "            a[3] = '|'\n",
        "            for i,c in enumerate(cantgastos_por_categoria_perc):\n",
        "                if c >= porcentaje:\n",
        "                    a[5+i*3]='o'\n",
        "                else:\n",
        "                    pass\n",
        "            print(''.join(a))\n",
        "\n",
        "        # Agregadod e nombres de categorias de forma vertical\n",
        "        print('    '+'-'*(len(cantgastos_por_categoria_perc)*3))\n",
        "        for i in range(max_len_nombres):\n",
        "            a = [' ']*(len(cantgastos_por_categoria_perc)*3 + 4)\n",
        "            for j,c in enumerate(nom_cat_norm):\n",
        "                a[5+j*3]=c[i]\n",
        "            print(''.join(a))\n",
        "\n",
        "class Categoria(Presupuesto):\n",
        "    \"\"\"\n",
        "    La onjetos de la clase Categoria tienen dos atributos: nombre y contabilidad.\n",
        "    El nombre corresponde al nombre identificador de la categoria. Este debe ser unico dentro de\n",
        "    un mismo presupuesto.\n",
        "\n",
        "    El atributo Contabilidad permite llear un registro de las transacciones que se realizaron sobre esta categoria.\n",
        "\n",
        "    \"\"\"\n",
        "\n",
        "    def __init__(self,nombre,monto):\n",
        "        \"\"\"\n",
        "        Contructor de una categoria. Adisionalemte se realiza el deposito inicial\n",
        "        \"\"\"\n",
        "\n",
        "        self.nombre = nombre\n",
        "        self.contabilidad = []\n",
        "        self.deposito(monto,descripcion='Deposito inicial')\n",
        "\n",
        "    def deposito(self,monto,descripcion=''):\n",
        "        \"\"\"\n",
        "        Realiza un registro del tipo deposito en la contabilidad de la categoria. Al mismo lo acompana una descripcion.\n",
        "        \"\"\"\n",
        "        self.contabilidad.append({'cantidad': monto, 'descripcion':descripcion})\n",
        "        pass\n",
        "\n",
        "    def extraccion(self,monto,descripcion=''):\n",
        "        \"\"\"\n",
        "        Realiza un registro del tipo extraccion en la contabilidad de la categoria. Al mismo lo acompana una descripcion.\n",
        "        \"\"\"\n",
        "        if self.verificar_fondos(monto):\n",
        "            self.contabilidad.append({'cantidad': -1*monto, 'descripcion':descripcion})\n",
        "            return True\n",
        "        else:\n",
        "            return False\n",
        "        \n",
        "    def obtener_balance(self):\n",
        "        \"\"\"\n",
        "        Devuelve el monto disponible para una determinada categoria basado en las transacciones registradas en su contabilidad.\n",
        "        \"\"\"\n",
        "        return sum([m['cantidad'] for m in self.contabilidad])\n",
        "\n",
        "    def transferencia(self,monto,nombre_otra_categoria):\n",
        "        \"\"\"\n",
        "        Realiza una transferencia entre dos categorias.\n",
        "        Tanto la categoria de origen como la de destino deben existir.\n",
        "        La categoria de origen debe tener un monto disponible mayor o igual que el detallado en la transferencia.\n",
        "        Se dejara registro en la contabilidad de ambas categorias sobre esta transaccion.\n",
        "        \"\"\"\n",
        "        if self.verificar_fondos(monto) and nombre_otra_categoria in self.categorias.keys():\n",
        "            self.extraccion(monto, 'Transf. a {}'.format(nombre_otra_categoria))\n",
        "            self.categorias[nombre_otra_categoria].deposito(monto, 'Transf. de {}'.format(self.nombre))\n",
        "        pass\n",
        "\n",
        "    def verificar_fondos(self,monto):\n",
        "        \"\"\"\n",
        "        Verifica si el fondo solicitado esta disponible para determinada categoria. \n",
        "        Devuelve True si esta disponible. De lo contrario devuelve False.\n",
        "        \"\"\"\n",
        "        if monto <= self.obtener_balance():\n",
        "            return True\n",
        "        else:\n",
        "            return False\n"
      ]
    },
    {
      "cell_type": "code",
      "execution_count": 17,
      "metadata": {},
      "outputs": [
        {
          "data": {
            "text/plain": [
              "True"
            ]
          },
          "execution_count": 17,
          "metadata": {},
          "output_type": "execute_result"
        }
      ],
      "source": [
        "p = Presupuesto()\n",
        "\n",
        "# Se crean nuevas categorias con un presupuesto inicial\n",
        "p.nueva_categoria('Vestimenta', 5000)\n",
        "p.nueva_categoria('Alimentos', 3000)\n",
        "p.nueva_categoria('Video Juegos', 7000)\n",
        "\n",
        "# Secuencias de transacciones para validar\n",
        "p.categorias['Video Juegos'].extraccion(10000, 'Pokémon Legends: Arceus')\n",
        "p.categorias['Alimentos'].transferencia(3000,'Video Juegos')\n",
        "p.categorias['Video Juegos'].extraccion(10000, 'Pokémon Legends: Arceus')\n",
        "p.categorias['Alimentos'].extraccion(200, 'Maple de huevos')\n",
        "p.categorias['Vestimenta'].transferencia(2000,'Alimentos')\n",
        "p.categorias['Alimentos'].extraccion(500, 'Maple de huevos y algo más')\n",
        "p.categorias['Vestimenta'].extraccion(1700, 'Remera')\n",
        "\n"
      ]
    },
    {
      "cell_type": "code",
      "execution_count": 19,
      "metadata": {},
      "outputs": [
        {
          "name": "stdout",
          "output_type": "stream",
          "text": [
            "**********Vestimenta**********\n",
            "Deposito inicial          5000\n",
            "Transf. a Alimentos      -2000\n",
            "Remera                   -1700\n",
            "Total: 1300\n",
            "\n",
            "**********Alimentos***********\n",
            "Deposito inicial          3000\n",
            "Transf. a Video Jueg     -3000\n",
            "Transf. de Vestiment      2000\n",
            "Maple de huevos y al      -500\n",
            "Total: 1500\n",
            "\n",
            "*********Video Juegos*********\n",
            "Deposito inicial          7000\n",
            "Transf. de Alimentos      3000\n",
            "Pokémon Legends: Arc    -10000\n",
            "Total: 0\n",
            "\n",
            "\n"
          ]
        }
      ],
      "source": [
        "print(p)"
      ]
    },
    {
      "cell_type": "code",
      "execution_count": 18,
      "metadata": {},
      "outputs": [
        {
          "name": "stdout",
          "output_type": "stream",
          "text": [
            "100|         \n",
            " 90|         \n",
            " 80|       o \n",
            " 70|       o \n",
            " 60|       o \n",
            " 50|       o \n",
            " 40|       o \n",
            " 30|       o \n",
            " 20|       o \n",
            " 10| o     o \n",
            "  0| o  o  o \n",
            "    ---------\n",
            "     V  A  V \n",
            "     e  l  i \n",
            "     s  i  d \n",
            "     t  m  e \n",
            "     i  e  o \n",
            "     m  n    \n",
            "     e  t  J \n",
            "     n  o  u \n",
            "     t  s  e \n",
            "     a     g \n",
            "           o \n",
            "           s \n"
          ]
        }
      ],
      "source": [
        "p.crear_tabla_de_gastos()"
      ]
    }
  ],
  "metadata": {
    "colab": {
      "collapsed_sections": [],
      "name": "Ejercitación_Clase1_Eloy_Zerbatto.ipynb",
      "provenance": [],
      "toc_visible": true
    },
    "kernelspec": {
      "display_name": "Python 3",
      "language": "python",
      "name": "python3"
    },
    "language_info": {
      "codemirror_mode": {
        "name": "ipython",
        "version": 3
      },
      "file_extension": ".py",
      "mimetype": "text/x-python",
      "name": "python",
      "nbconvert_exporter": "python",
      "pygments_lexer": "ipython3",
      "version": "3.10.2"
    }
  },
  "nbformat": 4,
  "nbformat_minor": 0
}
