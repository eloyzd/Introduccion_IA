{
 "cells": [
  {
   "cell_type": "markdown",
   "metadata": {},
   "source": [
    "## TP Final - Inteligencia Artificial\n",
    "\n",
    "María_Carina_Roldán \n",
    "Eloy_Zerbatto_Diaz \n",
    "5ta Cohorte"
   ]
  },
  {
   "cell_type": "markdown",
   "metadata": {},
   "source": [
    "## Consigna\n",
    "\n",
    "A partir del dataset www.kaggle.com/datasets/abrambeyer/openintro-possum\n",
    "\n",
    "a. Clasificar el ejemplar en m/f\n",
    "\n",
    "b. Predecir totlngth\n",
    "\n",
    "Los dos items son independientes entre sí, es decir, pueden usar como predictor en A la variable target del B, y visceversa.\n",
    "\n",
    "Usar al menos dos modelos en cada caso y comparar los resultados.\n"
   ]
  },
  {
   "cell_type": "code",
   "execution_count": 1,
   "metadata": {
    "id": "VwZK3A_wwr2I"
   },
   "outputs": [],
   "source": [
    "import numpy as np\n",
    "import pandas as pd\n",
    "import matplotlib.pyplot as plt\n",
    "\n",
    "import sklearn as sk\n",
    "from sklearn import preprocessing\n",
    "from sklearn.preprocessing import StandardScaler\n",
    "from sklearn.cluster import KMeans\n",
    "from sklearn.model_selection import train_test_split\n",
    "from sklearn import linear_model\n",
    "from sklearn.linear_model import LogisticRegression\n",
    "from sklearn.decomposition import PCA\n",
    "from sklearn.metrics import mean_squared_error\n",
    "from sklearn.metrics import confusion_matrix\n",
    "from sklearn.metrics import plot_confusion_matrix, ConfusionMatrixDisplay, classification_report\n"
   ]
  },
  {
   "cell_type": "code",
   "execution_count": 2,
   "metadata": {
    "colab": {
     "base_uri": "https://localhost:8080/",
     "height": 206
    },
    "id": "jgYFxuY9wxVI",
    "outputId": "3b95c6f6-46e1-4368-a358-60eebee5d86d"
   },
   "outputs": [
    {
     "data": {
      "text/html": [
       "<div>\n",
       "<style scoped>\n",
       "    .dataframe tbody tr th:only-of-type {\n",
       "        vertical-align: middle;\n",
       "    }\n",
       "\n",
       "    .dataframe tbody tr th {\n",
       "        vertical-align: top;\n",
       "    }\n",
       "\n",
       "    .dataframe thead th {\n",
       "        text-align: right;\n",
       "    }\n",
       "</style>\n",
       "<table border=\"1\" class=\"dataframe\">\n",
       "  <thead>\n",
       "    <tr style=\"text-align: right;\">\n",
       "      <th></th>\n",
       "      <th>case</th>\n",
       "      <th>site</th>\n",
       "      <th>Pop</th>\n",
       "      <th>sex</th>\n",
       "      <th>age</th>\n",
       "      <th>hdlngth</th>\n",
       "      <th>skullw</th>\n",
       "      <th>totlngth</th>\n",
       "      <th>taill</th>\n",
       "      <th>footlgth</th>\n",
       "      <th>earconch</th>\n",
       "      <th>eye</th>\n",
       "      <th>chest</th>\n",
       "      <th>belly</th>\n",
       "    </tr>\n",
       "  </thead>\n",
       "  <tbody>\n",
       "    <tr>\n",
       "      <th>0</th>\n",
       "      <td>1</td>\n",
       "      <td>1</td>\n",
       "      <td>Vic</td>\n",
       "      <td>m</td>\n",
       "      <td>8.0</td>\n",
       "      <td>94.1</td>\n",
       "      <td>60.4</td>\n",
       "      <td>89.0</td>\n",
       "      <td>36.0</td>\n",
       "      <td>74.5</td>\n",
       "      <td>54.5</td>\n",
       "      <td>15.2</td>\n",
       "      <td>28.0</td>\n",
       "      <td>36.0</td>\n",
       "    </tr>\n",
       "    <tr>\n",
       "      <th>1</th>\n",
       "      <td>2</td>\n",
       "      <td>1</td>\n",
       "      <td>Vic</td>\n",
       "      <td>f</td>\n",
       "      <td>6.0</td>\n",
       "      <td>92.5</td>\n",
       "      <td>57.6</td>\n",
       "      <td>91.5</td>\n",
       "      <td>36.5</td>\n",
       "      <td>72.5</td>\n",
       "      <td>51.2</td>\n",
       "      <td>16.0</td>\n",
       "      <td>28.5</td>\n",
       "      <td>33.0</td>\n",
       "    </tr>\n",
       "    <tr>\n",
       "      <th>2</th>\n",
       "      <td>3</td>\n",
       "      <td>1</td>\n",
       "      <td>Vic</td>\n",
       "      <td>f</td>\n",
       "      <td>6.0</td>\n",
       "      <td>94.0</td>\n",
       "      <td>60.0</td>\n",
       "      <td>95.5</td>\n",
       "      <td>39.0</td>\n",
       "      <td>75.4</td>\n",
       "      <td>51.9</td>\n",
       "      <td>15.5</td>\n",
       "      <td>30.0</td>\n",
       "      <td>34.0</td>\n",
       "    </tr>\n",
       "    <tr>\n",
       "      <th>3</th>\n",
       "      <td>4</td>\n",
       "      <td>1</td>\n",
       "      <td>Vic</td>\n",
       "      <td>f</td>\n",
       "      <td>6.0</td>\n",
       "      <td>93.2</td>\n",
       "      <td>57.1</td>\n",
       "      <td>92.0</td>\n",
       "      <td>38.0</td>\n",
       "      <td>76.1</td>\n",
       "      <td>52.2</td>\n",
       "      <td>15.2</td>\n",
       "      <td>28.0</td>\n",
       "      <td>34.0</td>\n",
       "    </tr>\n",
       "    <tr>\n",
       "      <th>4</th>\n",
       "      <td>5</td>\n",
       "      <td>1</td>\n",
       "      <td>Vic</td>\n",
       "      <td>f</td>\n",
       "      <td>2.0</td>\n",
       "      <td>91.5</td>\n",
       "      <td>56.3</td>\n",
       "      <td>85.5</td>\n",
       "      <td>36.0</td>\n",
       "      <td>71.0</td>\n",
       "      <td>53.2</td>\n",
       "      <td>15.1</td>\n",
       "      <td>28.5</td>\n",
       "      <td>33.0</td>\n",
       "    </tr>\n",
       "  </tbody>\n",
       "</table>\n",
       "</div>"
      ],
      "text/plain": [
       "   case  site  Pop sex  age  hdlngth  skullw  totlngth  taill  footlgth  \\\n",
       "0     1     1  Vic   m  8.0     94.1    60.4      89.0   36.0      74.5   \n",
       "1     2     1  Vic   f  6.0     92.5    57.6      91.5   36.5      72.5   \n",
       "2     3     1  Vic   f  6.0     94.0    60.0      95.5   39.0      75.4   \n",
       "3     4     1  Vic   f  6.0     93.2    57.1      92.0   38.0      76.1   \n",
       "4     5     1  Vic   f  2.0     91.5    56.3      85.5   36.0      71.0   \n",
       "\n",
       "   earconch   eye  chest  belly  \n",
       "0      54.5  15.2   28.0   36.0  \n",
       "1      51.2  16.0   28.5   33.0  \n",
       "2      51.9  15.5   30.0   34.0  \n",
       "3      52.2  15.2   28.0   34.0  \n",
       "4      53.2  15.1   28.5   33.0  "
      ]
     },
     "execution_count": 2,
     "metadata": {},
     "output_type": "execute_result"
    }
   ],
   "source": [
    "data = pd.read_csv('data/possum.csv')\n",
    "data = pd.DataFrame(data)\n",
    "data.head()"
   ]
  },
  {
   "cell_type": "markdown",
   "metadata": {},
   "source": [
    "El dataset possum consta de nueve medidas morfométricas en cada una de 104 zarigüeyas de montaña.\n"
   ]
  },
  {
   "cell_type": "code",
   "execution_count": 3,
   "metadata": {
    "id": "adrMPLHhxesf"
   },
   "outputs": [],
   "source": [
    "# Codifica las features Pop (population) y sexo\n",
    "le_Pop = preprocessing.LabelEncoder()\n",
    "le_sex = preprocessing.LabelEncoder()\n",
    "le_Pop.fit(data.iloc[:,2])\n",
    "le_sex.fit(data.iloc[:,3])\n",
    "\n",
    "# Arma un nuevo dataset con features numéricas\n",
    "data_ = np.array(data)\n",
    "data_num = data_\n",
    "data_num[:,2]=le_Pop.transform(data_[:,2])\n",
    "data_num[:,3]=le_sex.transform(data_[:,3])\n",
    "data_num = np.array(data_num, dtype=float)\n",
    "\n",
    "# Verifica que no haya Nan, si los hay, los corrije\n",
    "if np.sum(np.isnan(data_num)) > 0: \n",
    "    data_num =pd.DataFrame(data_num)\n",
    "    data_num = data_num.fillna(data_num.mean())\n",
    "    data_num = np.array(data_num,float)\n"
   ]
  },
  {
   "cell_type": "code",
   "execution_count": 4,
   "metadata": {
    "colab": {
     "base_uri": "https://localhost:8080/",
     "height": 545
    },
    "id": "83Wj8chNVj4-",
    "outputId": "e523ae9d-22fb-4bd4-8ee3-20bea802ff4f",
    "scrolled": true
   },
   "outputs": [
    {
     "data": {
      "text/html": [
       "<style type=\"text/css\">\n",
       "#T_891b1_row0_col0, #T_891b1_row1_col1, #T_891b1_row2_col2, #T_891b1_row3_col3, #T_891b1_row4_col4, #T_891b1_row5_col5, #T_891b1_row6_col6, #T_891b1_row7_col7, #T_891b1_row8_col8, #T_891b1_row9_col9, #T_891b1_row10_col10, #T_891b1_row11_col11, #T_891b1_row12_col12, #T_891b1_row13_col13 {\n",
       "  background-color: #fde725;\n",
       "  color: #000000;\n",
       "}\n",
       "#T_891b1_row0_col1, #T_891b1_row1_col0 {\n",
       "  background-color: #f4e61e;\n",
       "  color: #000000;\n",
       "}\n",
       "#T_891b1_row0_col2 {\n",
       "  background-color: #d0e11c;\n",
       "  color: #000000;\n",
       "}\n",
       "#T_891b1_row0_col3, #T_891b1_row9_col6, #T_891b1_row11_col4 {\n",
       "  background-color: #2e6e8e;\n",
       "  color: #f1f1f1;\n",
       "}\n",
       "#T_891b1_row0_col4, #T_891b1_row0_col5, #T_891b1_row0_col6, #T_891b1_row0_col7, #T_891b1_row0_col9, #T_891b1_row0_col12, #T_891b1_row0_col13, #T_891b1_row2_col9, #T_891b1_row2_col10, #T_891b1_row7_col3, #T_891b1_row9_col0, #T_891b1_row10_col1, #T_891b1_row10_col2, #T_891b1_row10_col8, #T_891b1_row10_col11 {\n",
       "  background-color: #440154;\n",
       "  color: #f1f1f1;\n",
       "}\n",
       "#T_891b1_row0_col8, #T_891b1_row4_col9, #T_891b1_row6_col2, #T_891b1_row13_col10 {\n",
       "  background-color: #20928c;\n",
       "  color: #f1f1f1;\n",
       "}\n",
       "#T_891b1_row0_col10, #T_891b1_row1_col7 {\n",
       "  background-color: #481668;\n",
       "  color: #f1f1f1;\n",
       "}\n",
       "#T_891b1_row0_col11 {\n",
       "  background-color: #481a6c;\n",
       "  color: #f1f1f1;\n",
       "}\n",
       "#T_891b1_row1_col2 {\n",
       "  background-color: #dae319;\n",
       "  color: #000000;\n",
       "}\n",
       "#T_891b1_row1_col3, #T_891b1_row8_col6 {\n",
       "  background-color: #30698e;\n",
       "  color: #f1f1f1;\n",
       "}\n",
       "#T_891b1_row1_col4 {\n",
       "  background-color: #481467;\n",
       "  color: #f1f1f1;\n",
       "}\n",
       "#T_891b1_row1_col5, #T_891b1_row1_col6 {\n",
       "  background-color: #470e61;\n",
       "  color: #f1f1f1;\n",
       "}\n",
       "#T_891b1_row1_col8, #T_891b1_row7_col10 {\n",
       "  background-color: #1e9d89;\n",
       "  color: #f1f1f1;\n",
       "}\n",
       "#T_891b1_row1_col9, #T_891b1_row9_col1, #T_891b1_row10_col0 {\n",
       "  background-color: #440256;\n",
       "  color: #f1f1f1;\n",
       "}\n",
       "#T_891b1_row1_col10, #T_891b1_row9_col2 {\n",
       "  background-color: #471365;\n",
       "  color: #f1f1f1;\n",
       "}\n",
       "#T_891b1_row1_col11, #T_891b1_row10_col6 {\n",
       "  background-color: #482878;\n",
       "  color: #f1f1f1;\n",
       "}\n",
       "#T_891b1_row1_col12 {\n",
       "  background-color: #471063;\n",
       "  color: #f1f1f1;\n",
       "}\n",
       "#T_891b1_row1_col13 {\n",
       "  background-color: #460b5e;\n",
       "  color: #f1f1f1;\n",
       "}\n",
       "#T_891b1_row2_col0 {\n",
       "  background-color: #cae11f;\n",
       "  color: #000000;\n",
       "}\n",
       "#T_891b1_row2_col1 {\n",
       "  background-color: #d8e219;\n",
       "  color: #000000;\n",
       "}\n",
       "#T_891b1_row2_col3 {\n",
       "  background-color: #34618d;\n",
       "  color: #f1f1f1;\n",
       "}\n",
       "#T_891b1_row2_col4 {\n",
       "  background-color: #482173;\n",
       "  color: #f1f1f1;\n",
       "}\n",
       "#T_891b1_row2_col5 {\n",
       "  background-color: #443b84;\n",
       "  color: #f1f1f1;\n",
       "}\n",
       "#T_891b1_row2_col6 {\n",
       "  background-color: #443a83;\n",
       "  color: #f1f1f1;\n",
       "}\n",
       "#T_891b1_row2_col7 {\n",
       "  background-color: #424186;\n",
       "  color: #f1f1f1;\n",
       "}\n",
       "#T_891b1_row2_col8 {\n",
       "  background-color: #29af7f;\n",
       "  color: #f1f1f1;\n",
       "}\n",
       "#T_891b1_row2_col11, #T_891b1_row9_col4 {\n",
       "  background-color: #39568c;\n",
       "  color: #f1f1f1;\n",
       "}\n",
       "#T_891b1_row2_col12, #T_891b1_row9_col11 {\n",
       "  background-color: #46337f;\n",
       "  color: #f1f1f1;\n",
       "}\n",
       "#T_891b1_row2_col13 {\n",
       "  background-color: #453581;\n",
       "  color: #f1f1f1;\n",
       "}\n",
       "#T_891b1_row3_col0, #T_891b1_row7_col6 {\n",
       "  background-color: #20a386;\n",
       "  color: #f1f1f1;\n",
       "}\n",
       "#T_891b1_row3_col1, #T_891b1_row3_col2 {\n",
       "  background-color: #1fa187;\n",
       "  color: #f1f1f1;\n",
       "}\n",
       "#T_891b1_row3_col4 {\n",
       "  background-color: #482677;\n",
       "  color: #f1f1f1;\n",
       "}\n",
       "#T_891b1_row3_col5, #T_891b1_row8_col4 {\n",
       "  background-color: #3a548c;\n",
       "  color: #f1f1f1;\n",
       "}\n",
       "#T_891b1_row3_col6 {\n",
       "  background-color: #433e85;\n",
       "  color: #f1f1f1;\n",
       "}\n",
       "#T_891b1_row3_col7 {\n",
       "  background-color: #472e7c;\n",
       "  color: #f1f1f1;\n",
       "}\n",
       "#T_891b1_row3_col8, #T_891b1_row12_col1 {\n",
       "  background-color: #3b518b;\n",
       "  color: #f1f1f1;\n",
       "}\n",
       "#T_891b1_row3_col9, #T_891b1_row7_col4 {\n",
       "  background-color: #2c718e;\n",
       "  color: #f1f1f1;\n",
       "}\n",
       "#T_891b1_row3_col10, #T_891b1_row6_col11, #T_891b1_row11_col1, #T_891b1_row11_col8 {\n",
       "  background-color: #287d8e;\n",
       "  color: #f1f1f1;\n",
       "}\n",
       "#T_891b1_row3_col11 {\n",
       "  background-color: #34608d;\n",
       "  color: #f1f1f1;\n",
       "}\n",
       "#T_891b1_row3_col12 {\n",
       "  background-color: #424086;\n",
       "  color: #f1f1f1;\n",
       "}\n",
       "#T_891b1_row3_col13 {\n",
       "  background-color: #482475;\n",
       "  color: #f1f1f1;\n",
       "}\n",
       "#T_891b1_row4_col0 {\n",
       "  background-color: #31678e;\n",
       "  color: #f1f1f1;\n",
       "}\n",
       "#T_891b1_row4_col1, #T_891b1_row6_col0, #T_891b1_row8_col9, #T_891b1_row11_col13 {\n",
       "  background-color: #2d718e;\n",
       "  color: #f1f1f1;\n",
       "}\n",
       "#T_891b1_row4_col2, #T_891b1_row5_col4, #T_891b1_row9_col13 {\n",
       "  background-color: #277e8e;\n",
       "  color: #f1f1f1;\n",
       "}\n",
       "#T_891b1_row4_col3 {\n",
       "  background-color: #481f70;\n",
       "  color: #f1f1f1;\n",
       "}\n",
       "#T_891b1_row4_col5 {\n",
       "  background-color: #27808e;\n",
       "  color: #f1f1f1;\n",
       "}\n",
       "#T_891b1_row4_col6, #T_891b1_row4_col8 {\n",
       "  background-color: #2e6f8e;\n",
       "  color: #f1f1f1;\n",
       "}\n",
       "#T_891b1_row4_col7, #T_891b1_row5_col11, #T_891b1_row11_col9 {\n",
       "  background-color: #26828e;\n",
       "  color: #f1f1f1;\n",
       "}\n",
       "#T_891b1_row4_col10 {\n",
       "  background-color: #21908d;\n",
       "  color: #f1f1f1;\n",
       "}\n",
       "#T_891b1_row4_col11, #T_891b1_row13_col1 {\n",
       "  background-color: #306a8e;\n",
       "  color: #f1f1f1;\n",
       "}\n",
       "#T_891b1_row4_col12 {\n",
       "  background-color: #1f948c;\n",
       "  color: #f1f1f1;\n",
       "}\n",
       "#T_891b1_row4_col13, #T_891b1_row11_col5 {\n",
       "  background-color: #24868e;\n",
       "  color: #f1f1f1;\n",
       "}\n",
       "#T_891b1_row5_col0 {\n",
       "  background-color: #32658e;\n",
       "  color: #f1f1f1;\n",
       "}\n",
       "#T_891b1_row5_col1 {\n",
       "  background-color: #2f6c8e;\n",
       "  color: #f1f1f1;\n",
       "}\n",
       "#T_891b1_row5_col2 {\n",
       "  background-color: #23898e;\n",
       "  color: #f1f1f1;\n",
       "}\n",
       "#T_891b1_row5_col3 {\n",
       "  background-color: #3d4d8a;\n",
       "  color: #f1f1f1;\n",
       "}\n",
       "#T_891b1_row5_col6, #T_891b1_row7_col5 {\n",
       "  background-color: #5ac864;\n",
       "  color: #000000;\n",
       "}\n",
       "#T_891b1_row5_col7 {\n",
       "  background-color: #67cc5c;\n",
       "  color: #000000;\n",
       "}\n",
       "#T_891b1_row5_col8 {\n",
       "  background-color: #228d8d;\n",
       "  color: #f1f1f1;\n",
       "}\n",
       "#T_891b1_row5_col9 {\n",
       "  background-color: #32b67a;\n",
       "  color: #f1f1f1;\n",
       "}\n",
       "#T_891b1_row5_col10 {\n",
       "  background-color: #1f988b;\n",
       "  color: #f1f1f1;\n",
       "}\n",
       "#T_891b1_row5_col12, #T_891b1_row6_col12 {\n",
       "  background-color: #56c667;\n",
       "  color: #000000;\n",
       "}\n",
       "#T_891b1_row5_col13, #T_891b1_row13_col5, #T_891b1_row13_col7 {\n",
       "  background-color: #2cb17e;\n",
       "  color: #f1f1f1;\n",
       "}\n",
       "#T_891b1_row6_col1, #T_891b1_row6_col4, #T_891b1_row11_col6 {\n",
       "  background-color: #2a778e;\n",
       "  color: #f1f1f1;\n",
       "}\n",
       "#T_891b1_row6_col3, #T_891b1_row10_col4 {\n",
       "  background-color: #404688;\n",
       "  color: #f1f1f1;\n",
       "}\n",
       "#T_891b1_row6_col5 {\n",
       "  background-color: #63cb5f;\n",
       "  color: #000000;\n",
       "}\n",
       "#T_891b1_row6_col7 {\n",
       "  background-color: #2eb37c;\n",
       "  color: #f1f1f1;\n",
       "}\n",
       "#T_891b1_row6_col8 {\n",
       "  background-color: #24878e;\n",
       "  color: #f1f1f1;\n",
       "}\n",
       "#T_891b1_row6_col9 {\n",
       "  background-color: #22a785;\n",
       "  color: #f1f1f1;\n",
       "}\n",
       "#T_891b1_row6_col10 {\n",
       "  background-color: #23888e;\n",
       "  color: #f1f1f1;\n",
       "}\n",
       "#T_891b1_row6_col13, #T_891b1_row11_col2 {\n",
       "  background-color: #1e9c89;\n",
       "  color: #f1f1f1;\n",
       "}\n",
       "#T_891b1_row7_col0 {\n",
       "  background-color: #3b528b;\n",
       "  color: #f1f1f1;\n",
       "}\n",
       "#T_891b1_row7_col1 {\n",
       "  background-color: #355e8d;\n",
       "  color: #f1f1f1;\n",
       "}\n",
       "#T_891b1_row7_col2, #T_891b1_row10_col12 {\n",
       "  background-color: #277f8e;\n",
       "  color: #f1f1f1;\n",
       "}\n",
       "#T_891b1_row7_col8, #T_891b1_row12_col7 {\n",
       "  background-color: #3dbc74;\n",
       "  color: #f1f1f1;\n",
       "}\n",
       "#T_891b1_row7_col9 {\n",
       "  background-color: #3fbc73;\n",
       "  color: #f1f1f1;\n",
       "}\n",
       "#T_891b1_row7_col11 {\n",
       "  background-color: #2e6d8e;\n",
       "  color: #f1f1f1;\n",
       "}\n",
       "#T_891b1_row7_col12 {\n",
       "  background-color: #42be71;\n",
       "  color: #f1f1f1;\n",
       "}\n",
       "#T_891b1_row7_col13 {\n",
       "  background-color: #23a983;\n",
       "  color: #f1f1f1;\n",
       "}\n",
       "#T_891b1_row8_col0 {\n",
       "  background-color: #25ac82;\n",
       "  color: #f1f1f1;\n",
       "}\n",
       "#T_891b1_row8_col1 {\n",
       "  background-color: #31b57b;\n",
       "  color: #f1f1f1;\n",
       "}\n",
       "#T_891b1_row8_col2 {\n",
       "  background-color: #52c569;\n",
       "  color: #000000;\n",
       "}\n",
       "#T_891b1_row8_col3 {\n",
       "  background-color: #482576;\n",
       "  color: #f1f1f1;\n",
       "}\n",
       "#T_891b1_row8_col5, #T_891b1_row8_col12 {\n",
       "  background-color: #297b8e;\n",
       "  color: #f1f1f1;\n",
       "}\n",
       "#T_891b1_row8_col7, #T_891b1_row12_col13 {\n",
       "  background-color: #38b977;\n",
       "  color: #f1f1f1;\n",
       "}\n",
       "#T_891b1_row8_col10 {\n",
       "  background-color: #39558c;\n",
       "  color: #f1f1f1;\n",
       "}\n",
       "#T_891b1_row8_col11 {\n",
       "  background-color: #33628d;\n",
       "  color: #f1f1f1;\n",
       "}\n",
       "#T_891b1_row8_col13 {\n",
       "  background-color: #287c8e;\n",
       "  color: #f1f1f1;\n",
       "}\n",
       "#T_891b1_row9_col3 {\n",
       "  background-color: #470d60;\n",
       "  color: #f1f1f1;\n",
       "}\n",
       "#T_891b1_row9_col5 {\n",
       "  background-color: #218f8d;\n",
       "  color: #f1f1f1;\n",
       "}\n",
       "#T_891b1_row9_col7 {\n",
       "  background-color: #20a486;\n",
       "  color: #f1f1f1;\n",
       "}\n",
       "#T_891b1_row9_col8 {\n",
       "  background-color: #423f85;\n",
       "  color: #f1f1f1;\n",
       "}\n",
       "#T_891b1_row9_col10 {\n",
       "  background-color: #addc30;\n",
       "  color: #000000;\n",
       "}\n",
       "#T_891b1_row9_col12 {\n",
       "  background-color: #24aa83;\n",
       "  color: #f1f1f1;\n",
       "}\n",
       "#T_891b1_row10_col3, #T_891b1_row13_col3 {\n",
       "  background-color: #481769;\n",
       "  color: #f1f1f1;\n",
       "}\n",
       "#T_891b1_row10_col5 {\n",
       "  background-color: #38598c;\n",
       "  color: #f1f1f1;\n",
       "}\n",
       "#T_891b1_row10_col7, #T_891b1_row12_col2 {\n",
       "  background-color: #2d708e;\n",
       "  color: #f1f1f1;\n",
       "}\n",
       "#T_891b1_row10_col9 {\n",
       "  background-color: #a8db34;\n",
       "  color: #000000;\n",
       "}\n",
       "#T_891b1_row10_col13 {\n",
       "  background-color: #3e4c8a;\n",
       "  color: #f1f1f1;\n",
       "}\n",
       "#T_891b1_row11_col0, #T_891b1_row11_col12 {\n",
       "  background-color: #2a768e;\n",
       "  color: #f1f1f1;\n",
       "}\n",
       "#T_891b1_row11_col3 {\n",
       "  background-color: #355f8d;\n",
       "  color: #f1f1f1;\n",
       "}\n",
       "#T_891b1_row11_col7, #T_891b1_row12_col4 {\n",
       "  background-color: #26818e;\n",
       "  color: #f1f1f1;\n",
       "}\n",
       "#T_891b1_row11_col10 {\n",
       "  background-color: #2c738e;\n",
       "  color: #f1f1f1;\n",
       "}\n",
       "#T_891b1_row12_col0 {\n",
       "  background-color: #3f4788;\n",
       "  color: #f1f1f1;\n",
       "}\n",
       "#T_891b1_row12_col3 {\n",
       "  background-color: #46075a;\n",
       "  color: #f1f1f1;\n",
       "}\n",
       "#T_891b1_row12_col5, #T_891b1_row12_col9 {\n",
       "  background-color: #40bd72;\n",
       "  color: #f1f1f1;\n",
       "}\n",
       "#T_891b1_row12_col6 {\n",
       "  background-color: #37b878;\n",
       "  color: #f1f1f1;\n",
       "}\n",
       "#T_891b1_row12_col8 {\n",
       "  background-color: #29798e;\n",
       "  color: #f1f1f1;\n",
       "}\n",
       "#T_891b1_row12_col10 {\n",
       "  background-color: #1fa287;\n",
       "  color: #f1f1f1;\n",
       "}\n",
       "#T_891b1_row12_col11 {\n",
       "  background-color: #38588c;\n",
       "  color: #f1f1f1;\n",
       "}\n",
       "#T_891b1_row13_col0 {\n",
       "  background-color: #32648e;\n",
       "  color: #f1f1f1;\n",
       "}\n",
       "#T_891b1_row13_col2 {\n",
       "  background-color: #25858e;\n",
       "  color: #f1f1f1;\n",
       "}\n",
       "#T_891b1_row13_col4 {\n",
       "  background-color: #25848e;\n",
       "  color: #f1f1f1;\n",
       "}\n",
       "#T_891b1_row13_col6 {\n",
       "  background-color: #20938c;\n",
       "  color: #f1f1f1;\n",
       "}\n",
       "#T_891b1_row13_col8 {\n",
       "  background-color: #218e8d;\n",
       "  color: #f1f1f1;\n",
       "}\n",
       "#T_891b1_row13_col9 {\n",
       "  background-color: #25ab82;\n",
       "  color: #f1f1f1;\n",
       "}\n",
       "#T_891b1_row13_col11 {\n",
       "  background-color: #2f6b8e;\n",
       "  color: #f1f1f1;\n",
       "}\n",
       "#T_891b1_row13_col12 {\n",
       "  background-color: #4ec36b;\n",
       "  color: #000000;\n",
       "}\n",
       "</style>\n",
       "<table id=\"T_891b1\">\n",
       "  <thead>\n",
       "    <tr>\n",
       "      <th class=\"blank level0\" >&nbsp;</th>\n",
       "      <th id=\"T_891b1_level0_col0\" class=\"col_heading level0 col0\" >case</th>\n",
       "      <th id=\"T_891b1_level0_col1\" class=\"col_heading level0 col1\" >site</th>\n",
       "      <th id=\"T_891b1_level0_col2\" class=\"col_heading level0 col2\" >Pop</th>\n",
       "      <th id=\"T_891b1_level0_col3\" class=\"col_heading level0 col3\" >sex</th>\n",
       "      <th id=\"T_891b1_level0_col4\" class=\"col_heading level0 col4\" >age</th>\n",
       "      <th id=\"T_891b1_level0_col5\" class=\"col_heading level0 col5\" >hdlngth</th>\n",
       "      <th id=\"T_891b1_level0_col6\" class=\"col_heading level0 col6\" >skullw</th>\n",
       "      <th id=\"T_891b1_level0_col7\" class=\"col_heading level0 col7\" >totlngth</th>\n",
       "      <th id=\"T_891b1_level0_col8\" class=\"col_heading level0 col8\" >taill</th>\n",
       "      <th id=\"T_891b1_level0_col9\" class=\"col_heading level0 col9\" >footlgth</th>\n",
       "      <th id=\"T_891b1_level0_col10\" class=\"col_heading level0 col10\" >earconch</th>\n",
       "      <th id=\"T_891b1_level0_col11\" class=\"col_heading level0 col11\" >eye</th>\n",
       "      <th id=\"T_891b1_level0_col12\" class=\"col_heading level0 col12\" >chest</th>\n",
       "      <th id=\"T_891b1_level0_col13\" class=\"col_heading level0 col13\" >belly</th>\n",
       "    </tr>\n",
       "  </thead>\n",
       "  <tbody>\n",
       "    <tr>\n",
       "      <th id=\"T_891b1_level0_row0\" class=\"row_heading level0 row0\" >case</th>\n",
       "      <td id=\"T_891b1_row0_col0\" class=\"data row0 col0\" >1.000</td>\n",
       "      <td id=\"T_891b1_row0_col1\" class=\"data row0 col1\" >0.970</td>\n",
       "      <td id=\"T_891b1_row0_col2\" class=\"data row0 col2\" >0.860</td>\n",
       "      <td id=\"T_891b1_row0_col3\" class=\"data row0 col3\" >0.254</td>\n",
       "      <td id=\"T_891b1_row0_col4\" class=\"data row0 col4\" >-0.194</td>\n",
       "      <td id=\"T_891b1_row0_col5\" class=\"data row0 col5\" >-0.209</td>\n",
       "      <td id=\"T_891b1_row0_col6\" class=\"data row0 col6\" >-0.125</td>\n",
       "      <td id=\"T_891b1_row0_col7\" class=\"data row0 col7\" >-0.334</td>\n",
       "      <td id=\"T_891b1_row0_col8\" class=\"data row0 col8\" >0.315</td>\n",
       "      <td id=\"T_891b1_row0_col9\" class=\"data row0 col9\" >-0.782</td>\n",
       "      <td id=\"T_891b1_row0_col10\" class=\"data row0 col10\" >-0.774</td>\n",
       "      <td id=\"T_891b1_row0_col11\" class=\"data row0 col11\" >-0.084</td>\n",
       "      <td id=\"T_891b1_row0_col12\" class=\"data row0 col12\" >-0.402</td>\n",
       "      <td id=\"T_891b1_row0_col13\" class=\"data row0 col13\" >-0.212</td>\n",
       "    </tr>\n",
       "    <tr>\n",
       "      <th id=\"T_891b1_level0_row1\" class=\"row_heading level0 row1\" >site</th>\n",
       "      <td id=\"T_891b1_row1_col0\" class=\"data row1 col0\" >0.970</td>\n",
       "      <td id=\"T_891b1_row1_col1\" class=\"data row1 col1\" >1.000</td>\n",
       "      <td id=\"T_891b1_row1_col2\" class=\"data row1 col2\" >0.892</td>\n",
       "      <td id=\"T_891b1_row1_col3\" class=\"data row1 col3\" >0.233</td>\n",
       "      <td id=\"T_891b1_row1_col4\" class=\"data row1 col4\" >-0.131</td>\n",
       "      <td id=\"T_891b1_row1_col5\" class=\"data row1 col5\" >-0.164</td>\n",
       "      <td id=\"T_891b1_row1_col6\" class=\"data row1 col6\" >-0.084</td>\n",
       "      <td id=\"T_891b1_row1_col7\" class=\"data row1 col7\" >-0.261</td>\n",
       "      <td id=\"T_891b1_row1_col8\" class=\"data row1 col8\" >0.380</td>\n",
       "      <td id=\"T_891b1_row1_col9\" class=\"data row1 col9\" >-0.781</td>\n",
       "      <td id=\"T_891b1_row1_col10\" class=\"data row1 col10\" >-0.791</td>\n",
       "      <td id=\"T_891b1_row1_col11\" class=\"data row1 col11\" >-0.037</td>\n",
       "      <td id=\"T_891b1_row1_col12\" class=\"data row1 col12\" >-0.345</td>\n",
       "      <td id=\"T_891b1_row1_col13\" class=\"data row1 col13\" >-0.175</td>\n",
       "    </tr>\n",
       "    <tr>\n",
       "      <th id=\"T_891b1_level0_row2\" class=\"row_heading level0 row2\" >Pop</th>\n",
       "      <td id=\"T_891b1_row2_col0\" class=\"data row2 col0\" >0.860</td>\n",
       "      <td id=\"T_891b1_row2_col1\" class=\"data row2 col1\" >0.892</td>\n",
       "      <td id=\"T_891b1_row2_col2\" class=\"data row2 col2\" >1.000</td>\n",
       "      <td id=\"T_891b1_row2_col3\" class=\"data row2 col3\" >0.196</td>\n",
       "      <td id=\"T_891b1_row2_col4\" class=\"data row2 col4\" >-0.086</td>\n",
       "      <td id=\"T_891b1_row2_col5\" class=\"data row2 col5\" >0.001</td>\n",
       "      <td id=\"T_891b1_row2_col6\" class=\"data row2 col6\" >0.066</td>\n",
       "      <td id=\"T_891b1_row2_col7\" class=\"data row2 col7\" >-0.079</td>\n",
       "      <td id=\"T_891b1_row2_col8\" class=\"data row2 col8\" >0.491</td>\n",
       "      <td id=\"T_891b1_row2_col9\" class=\"data row2 col9\" >-0.788</td>\n",
       "      <td id=\"T_891b1_row2_col10\" class=\"data row2 col10\" >-0.883</td>\n",
       "      <td id=\"T_891b1_row2_col11\" class=\"data row2 col11\" >0.149</td>\n",
       "      <td id=\"T_891b1_row2_col12\" class=\"data row2 col12\" >-0.195</td>\n",
       "      <td id=\"T_891b1_row2_col13\" class=\"data row2 col13\" >-0.025</td>\n",
       "    </tr>\n",
       "    <tr>\n",
       "      <th id=\"T_891b1_level0_row3\" class=\"row_heading level0 row3\" >sex</th>\n",
       "      <td id=\"T_891b1_row3_col0\" class=\"data row3 col0\" >0.254</td>\n",
       "      <td id=\"T_891b1_row3_col1\" class=\"data row3 col1\" >0.233</td>\n",
       "      <td id=\"T_891b1_row3_col2\" class=\"data row3 col2\" >0.196</td>\n",
       "      <td id=\"T_891b1_row3_col3\" class=\"data row3 col3\" >1.000</td>\n",
       "      <td id=\"T_891b1_row3_col4\" class=\"data row3 col4\" >-0.064</td>\n",
       "      <td id=\"T_891b1_row3_col5\" class=\"data row3 col5\" >0.107</td>\n",
       "      <td id=\"T_891b1_row3_col6\" class=\"data row3 col6\" >0.080</td>\n",
       "      <td id=\"T_891b1_row3_col7\" class=\"data row3 col7\" >-0.160</td>\n",
       "      <td id=\"T_891b1_row3_col8\" class=\"data row3 col8\" >-0.041</td>\n",
       "      <td id=\"T_891b1_row3_col9\" class=\"data row3 col9\" >-0.123</td>\n",
       "      <td id=\"T_891b1_row3_col10\" class=\"data row3 col10\" >-0.092</td>\n",
       "      <td id=\"T_891b1_row3_col11\" class=\"data row3 col11\" >0.188</td>\n",
       "      <td id=\"T_891b1_row3_col12\" class=\"data row3 col12\" >-0.139</td>\n",
       "      <td id=\"T_891b1_row3_col13\" class=\"data row3 col13\" >-0.091</td>\n",
       "    </tr>\n",
       "    <tr>\n",
       "      <th id=\"T_891b1_level0_row4\" class=\"row_heading level0 row4\" >age</th>\n",
       "      <td id=\"T_891b1_row4_col0\" class=\"data row4 col0\" >-0.194</td>\n",
       "      <td id=\"T_891b1_row4_col1\" class=\"data row4 col1\" >-0.131</td>\n",
       "      <td id=\"T_891b1_row4_col2\" class=\"data row4 col2\" >-0.086</td>\n",
       "      <td id=\"T_891b1_row4_col3\" class=\"data row4 col3\" >-0.064</td>\n",
       "      <td id=\"T_891b1_row4_col4\" class=\"data row4 col4\" >1.000</td>\n",
       "      <td id=\"T_891b1_row4_col5\" class=\"data row4 col5\" >0.312</td>\n",
       "      <td id=\"T_891b1_row4_col6\" class=\"data row4 col6\" >0.280</td>\n",
       "      <td id=\"T_891b1_row4_col7\" class=\"data row4 col7\" >0.251</td>\n",
       "      <td id=\"T_891b1_row4_col8\" class=\"data row4 col8\" >0.117</td>\n",
       "      <td id=\"T_891b1_row4_col9\" class=\"data row4 col9\" >0.125</td>\n",
       "      <td id=\"T_891b1_row4_col10\" class=\"data row4 col10\" >0.053</td>\n",
       "      <td id=\"T_891b1_row4_col11\" class=\"data row4 col11\" >0.235</td>\n",
       "      <td id=\"T_891b1_row4_col12\" class=\"data row4 col12\" >0.325</td>\n",
       "      <td id=\"T_891b1_row4_col13\" class=\"data row4 col13\" >0.346</td>\n",
       "    </tr>\n",
       "    <tr>\n",
       "      <th id=\"T_891b1_level0_row5\" class=\"row_heading level0 row5\" >hdlngth</th>\n",
       "      <td id=\"T_891b1_row5_col0\" class=\"data row5 col0\" >-0.209</td>\n",
       "      <td id=\"T_891b1_row5_col1\" class=\"data row5 col1\" >-0.164</td>\n",
       "      <td id=\"T_891b1_row5_col2\" class=\"data row5 col2\" >0.001</td>\n",
       "      <td id=\"T_891b1_row5_col3\" class=\"data row5 col3\" >0.107</td>\n",
       "      <td id=\"T_891b1_row5_col4\" class=\"data row5 col4\" >0.312</td>\n",
       "      <td id=\"T_891b1_row5_col5\" class=\"data row5 col5\" >1.000</td>\n",
       "      <td id=\"T_891b1_row5_col6\" class=\"data row5 col6\" >0.711</td>\n",
       "      <td id=\"T_891b1_row5_col7\" class=\"data row5 col7\" >0.691</td>\n",
       "      <td id=\"T_891b1_row5_col8\" class=\"data row5 col8\" >0.287</td>\n",
       "      <td id=\"T_891b1_row5_col9\" class=\"data row5 col9\" >0.389</td>\n",
       "      <td id=\"T_891b1_row5_col10\" class=\"data row5 col10\" >0.121</td>\n",
       "      <td id=\"T_891b1_row5_col11\" class=\"data row5 col11\" >0.347</td>\n",
       "      <td id=\"T_891b1_row5_col12\" class=\"data row5 col12\" >0.631</td>\n",
       "      <td id=\"T_891b1_row5_col13\" class=\"data row5 col13\" >0.563</td>\n",
       "    </tr>\n",
       "    <tr>\n",
       "      <th id=\"T_891b1_level0_row6\" class=\"row_heading level0 row6\" >skullw</th>\n",
       "      <td id=\"T_891b1_row6_col0\" class=\"data row6 col0\" >-0.125</td>\n",
       "      <td id=\"T_891b1_row6_col1\" class=\"data row6 col1\" >-0.084</td>\n",
       "      <td id=\"T_891b1_row6_col2\" class=\"data row6 col2\" >0.066</td>\n",
       "      <td id=\"T_891b1_row6_col3\" class=\"data row6 col3\" >0.080</td>\n",
       "      <td id=\"T_891b1_row6_col4\" class=\"data row6 col4\" >0.280</td>\n",
       "      <td id=\"T_891b1_row6_col5\" class=\"data row6 col5\" >0.711</td>\n",
       "      <td id=\"T_891b1_row6_col6\" class=\"data row6 col6\" >1.000</td>\n",
       "      <td id=\"T_891b1_row6_col7\" class=\"data row6 col7\" >0.526</td>\n",
       "      <td id=\"T_891b1_row6_col8\" class=\"data row6 col8\" >0.256</td>\n",
       "      <td id=\"T_891b1_row6_col9\" class=\"data row6 col9\" >0.275</td>\n",
       "      <td id=\"T_891b1_row6_col10\" class=\"data row6 col10\" >-0.001</td>\n",
       "      <td id=\"T_891b1_row6_col11\" class=\"data row6 col11\" >0.322</td>\n",
       "      <td id=\"T_891b1_row6_col12\" class=\"data row6 col12\" >0.630</td>\n",
       "      <td id=\"T_891b1_row6_col13\" class=\"data row6 col13\" >0.452</td>\n",
       "    </tr>\n",
       "    <tr>\n",
       "      <th id=\"T_891b1_level0_row7\" class=\"row_heading level0 row7\" >totlngth</th>\n",
       "      <td id=\"T_891b1_row7_col0\" class=\"data row7 col0\" >-0.334</td>\n",
       "      <td id=\"T_891b1_row7_col1\" class=\"data row7 col1\" >-0.261</td>\n",
       "      <td id=\"T_891b1_row7_col2\" class=\"data row7 col2\" >-0.079</td>\n",
       "      <td id=\"T_891b1_row7_col3\" class=\"data row7 col3\" >-0.160</td>\n",
       "      <td id=\"T_891b1_row7_col4\" class=\"data row7 col4\" >0.251</td>\n",
       "      <td id=\"T_891b1_row7_col5\" class=\"data row7 col5\" >0.691</td>\n",
       "      <td id=\"T_891b1_row7_col6\" class=\"data row7 col6\" >0.526</td>\n",
       "      <td id=\"T_891b1_row7_col7\" class=\"data row7 col7\" >1.000</td>\n",
       "      <td id=\"T_891b1_row7_col8\" class=\"data row7 col8\" >0.566</td>\n",
       "      <td id=\"T_891b1_row7_col9\" class=\"data row7 col9\" >0.443</td>\n",
       "      <td id=\"T_891b1_row7_col10\" class=\"data row7 col10\" >0.154</td>\n",
       "      <td id=\"T_891b1_row7_col11\" class=\"data row7 col11\" >0.248</td>\n",
       "      <td id=\"T_891b1_row7_col12\" class=\"data row7 col12\" >0.578</td>\n",
       "      <td id=\"T_891b1_row7_col13\" class=\"data row7 col13\" >0.519</td>\n",
       "    </tr>\n",
       "    <tr>\n",
       "      <th id=\"T_891b1_level0_row8\" class=\"row_heading level0 row8\" >taill</th>\n",
       "      <td id=\"T_891b1_row8_col0\" class=\"data row8 col0\" >0.315</td>\n",
       "      <td id=\"T_891b1_row8_col1\" class=\"data row8 col1\" >0.380</td>\n",
       "      <td id=\"T_891b1_row8_col2\" class=\"data row8 col2\" >0.491</td>\n",
       "      <td id=\"T_891b1_row8_col3\" class=\"data row8 col3\" >-0.041</td>\n",
       "      <td id=\"T_891b1_row8_col4\" class=\"data row8 col4\" >0.117</td>\n",
       "      <td id=\"T_891b1_row8_col5\" class=\"data row8 col5\" >0.287</td>\n",
       "      <td id=\"T_891b1_row8_col6\" class=\"data row8 col6\" >0.256</td>\n",
       "      <td id=\"T_891b1_row8_col7\" class=\"data row8 col7\" >0.566</td>\n",
       "      <td id=\"T_891b1_row8_col8\" class=\"data row8 col8\" >1.000</td>\n",
       "      <td id=\"T_891b1_row8_col9\" class=\"data row8 col9\" >-0.126</td>\n",
       "      <td id=\"T_891b1_row8_col10\" class=\"data row8 col10\" >-0.385</td>\n",
       "      <td id=\"T_891b1_row8_col11\" class=\"data row8 col11\" >0.198</td>\n",
       "      <td id=\"T_891b1_row8_col12\" class=\"data row8 col12\" >0.175</td>\n",
       "      <td id=\"T_891b1_row8_col13\" class=\"data row8 col13\" >0.294</td>\n",
       "    </tr>\n",
       "    <tr>\n",
       "      <th id=\"T_891b1_level0_row9\" class=\"row_heading level0 row9\" >footlgth</th>\n",
       "      <td id=\"T_891b1_row9_col0\" class=\"data row9 col0\" >-0.782</td>\n",
       "      <td id=\"T_891b1_row9_col1\" class=\"data row9 col1\" >-0.781</td>\n",
       "      <td id=\"T_891b1_row9_col2\" class=\"data row9 col2\" >-0.788</td>\n",
       "      <td id=\"T_891b1_row9_col3\" class=\"data row9 col3\" >-0.123</td>\n",
       "      <td id=\"T_891b1_row9_col4\" class=\"data row9 col4\" >0.125</td>\n",
       "      <td id=\"T_891b1_row9_col5\" class=\"data row9 col5\" >0.389</td>\n",
       "      <td id=\"T_891b1_row9_col6\" class=\"data row9 col6\" >0.275</td>\n",
       "      <td id=\"T_891b1_row9_col7\" class=\"data row9 col7\" >0.443</td>\n",
       "      <td id=\"T_891b1_row9_col8\" class=\"data row9 col8\" >-0.126</td>\n",
       "      <td id=\"T_891b1_row9_col9\" class=\"data row9 col9\" >1.000</td>\n",
       "      <td id=\"T_891b1_row9_col10\" class=\"data row9 col10\" >0.769</td>\n",
       "      <td id=\"T_891b1_row9_col11\" class=\"data row9 col11\" >0.005</td>\n",
       "      <td id=\"T_891b1_row9_col12\" class=\"data row9 col12\" >0.451</td>\n",
       "      <td id=\"T_891b1_row9_col13\" class=\"data row9 col13\" >0.302</td>\n",
       "    </tr>\n",
       "    <tr>\n",
       "      <th id=\"T_891b1_level0_row10\" class=\"row_heading level0 row10\" >earconch</th>\n",
       "      <td id=\"T_891b1_row10_col0\" class=\"data row10 col0\" >-0.774</td>\n",
       "      <td id=\"T_891b1_row10_col1\" class=\"data row10 col1\" >-0.791</td>\n",
       "      <td id=\"T_891b1_row10_col2\" class=\"data row10 col2\" >-0.883</td>\n",
       "      <td id=\"T_891b1_row10_col3\" class=\"data row10 col3\" >-0.092</td>\n",
       "      <td id=\"T_891b1_row10_col4\" class=\"data row10 col4\" >0.053</td>\n",
       "      <td id=\"T_891b1_row10_col5\" class=\"data row10 col5\" >0.121</td>\n",
       "      <td id=\"T_891b1_row10_col6\" class=\"data row10 col6\" >-0.001</td>\n",
       "      <td id=\"T_891b1_row10_col7\" class=\"data row10 col7\" >0.154</td>\n",
       "      <td id=\"T_891b1_row10_col8\" class=\"data row10 col8\" >-0.385</td>\n",
       "      <td id=\"T_891b1_row10_col9\" class=\"data row10 col9\" >0.769</td>\n",
       "      <td id=\"T_891b1_row10_col10\" class=\"data row10 col10\" >1.000</td>\n",
       "      <td id=\"T_891b1_row10_col11\" class=\"data row10 col11\" >-0.165</td>\n",
       "      <td id=\"T_891b1_row10_col12\" class=\"data row10 col12\" >0.199</td>\n",
       "      <td id=\"T_891b1_row10_col13\" class=\"data row10 col13\" >0.067</td>\n",
       "    </tr>\n",
       "    <tr>\n",
       "      <th id=\"T_891b1_level0_row11\" class=\"row_heading level0 row11\" >eye</th>\n",
       "      <td id=\"T_891b1_row11_col0\" class=\"data row11 col0\" >-0.084</td>\n",
       "      <td id=\"T_891b1_row11_col1\" class=\"data row11 col1\" >-0.037</td>\n",
       "      <td id=\"T_891b1_row11_col2\" class=\"data row11 col2\" >0.149</td>\n",
       "      <td id=\"T_891b1_row11_col3\" class=\"data row11 col3\" >0.188</td>\n",
       "      <td id=\"T_891b1_row11_col4\" class=\"data row11 col4\" >0.235</td>\n",
       "      <td id=\"T_891b1_row11_col5\" class=\"data row11 col5\" >0.347</td>\n",
       "      <td id=\"T_891b1_row11_col6\" class=\"data row11 col6\" >0.322</td>\n",
       "      <td id=\"T_891b1_row11_col7\" class=\"data row11 col7\" >0.248</td>\n",
       "      <td id=\"T_891b1_row11_col8\" class=\"data row11 col8\" >0.198</td>\n",
       "      <td id=\"T_891b1_row11_col9\" class=\"data row11 col9\" >0.005</td>\n",
       "      <td id=\"T_891b1_row11_col10\" class=\"data row11 col10\" >-0.165</td>\n",
       "      <td id=\"T_891b1_row11_col11\" class=\"data row11 col11\" >1.000</td>\n",
       "      <td id=\"T_891b1_row11_col12\" class=\"data row11 col12\" >0.149</td>\n",
       "      <td id=\"T_891b1_row11_col13\" class=\"data row11 col13\" >0.236</td>\n",
       "    </tr>\n",
       "    <tr>\n",
       "      <th id=\"T_891b1_level0_row12\" class=\"row_heading level0 row12\" >chest</th>\n",
       "      <td id=\"T_891b1_row12_col0\" class=\"data row12 col0\" >-0.402</td>\n",
       "      <td id=\"T_891b1_row12_col1\" class=\"data row12 col1\" >-0.345</td>\n",
       "      <td id=\"T_891b1_row12_col2\" class=\"data row12 col2\" >-0.195</td>\n",
       "      <td id=\"T_891b1_row12_col3\" class=\"data row12 col3\" >-0.139</td>\n",
       "      <td id=\"T_891b1_row12_col4\" class=\"data row12 col4\" >0.325</td>\n",
       "      <td id=\"T_891b1_row12_col5\" class=\"data row12 col5\" >0.631</td>\n",
       "      <td id=\"T_891b1_row12_col6\" class=\"data row12 col6\" >0.630</td>\n",
       "      <td id=\"T_891b1_row12_col7\" class=\"data row12 col7\" >0.578</td>\n",
       "      <td id=\"T_891b1_row12_col8\" class=\"data row12 col8\" >0.175</td>\n",
       "      <td id=\"T_891b1_row12_col9\" class=\"data row12 col9\" >0.451</td>\n",
       "      <td id=\"T_891b1_row12_col10\" class=\"data row12 col10\" >0.199</td>\n",
       "      <td id=\"T_891b1_row12_col11\" class=\"data row12 col11\" >0.149</td>\n",
       "      <td id=\"T_891b1_row12_col12\" class=\"data row12 col12\" >1.000</td>\n",
       "      <td id=\"T_891b1_row12_col13\" class=\"data row12 col13\" >0.606</td>\n",
       "    </tr>\n",
       "    <tr>\n",
       "      <th id=\"T_891b1_level0_row13\" class=\"row_heading level0 row13\" >belly</th>\n",
       "      <td id=\"T_891b1_row13_col0\" class=\"data row13 col0\" >-0.212</td>\n",
       "      <td id=\"T_891b1_row13_col1\" class=\"data row13 col1\" >-0.175</td>\n",
       "      <td id=\"T_891b1_row13_col2\" class=\"data row13 col2\" >-0.025</td>\n",
       "      <td id=\"T_891b1_row13_col3\" class=\"data row13 col3\" >-0.091</td>\n",
       "      <td id=\"T_891b1_row13_col4\" class=\"data row13 col4\" >0.346</td>\n",
       "      <td id=\"T_891b1_row13_col5\" class=\"data row13 col5\" >0.563</td>\n",
       "      <td id=\"T_891b1_row13_col6\" class=\"data row13 col6\" >0.452</td>\n",
       "      <td id=\"T_891b1_row13_col7\" class=\"data row13 col7\" >0.519</td>\n",
       "      <td id=\"T_891b1_row13_col8\" class=\"data row13 col8\" >0.294</td>\n",
       "      <td id=\"T_891b1_row13_col9\" class=\"data row13 col9\" >0.302</td>\n",
       "      <td id=\"T_891b1_row13_col10\" class=\"data row13 col10\" >0.067</td>\n",
       "      <td id=\"T_891b1_row13_col11\" class=\"data row13 col11\" >0.236</td>\n",
       "      <td id=\"T_891b1_row13_col12\" class=\"data row13 col12\" >0.606</td>\n",
       "      <td id=\"T_891b1_row13_col13\" class=\"data row13 col13\" >1.000</td>\n",
       "    </tr>\n",
       "  </tbody>\n",
       "</table>\n"
      ],
      "text/plain": [
       "<pandas.io.formats.style.Styler at 0x7f6e571b6e80>"
      ]
     },
     "execution_count": 4,
     "metadata": {},
     "output_type": "execute_result"
    }
   ],
   "source": [
    "# Matriz de correlación para tener una primera idea de cómo se relacionan las features\n",
    "corr = pd.DataFrame(data_num, \n",
    "                    columns = [\"case\", \"site\", \"Pop\", \"sex\", \"age\", \"hdlngth\", \"skullw\", \"totlngth\", \"taill\", \"footlgth\", \"earconch\", \"eye\", \"chest\", \"belly\"]\n",
    "                    ).corr()\n",
    "corr.style.background_gradient(cmap='viridis').format(precision=3)\n"
   ]
  },
  {
   "cell_type": "markdown",
   "metadata": {},
   "source": [
    "### Observaciones\n",
    "\n",
    "- El sexo no parece estar directamente correlacionado con ninguna de las features. Igualmente intentaremos clasificar estas zarigüeyas como m/f.\n",
    "- Por otro lado, el largo total (totlngth) sí parece tener correlacionado con otras features, en particular con el largo de la cabeza (hdlength), el ancho del cráneo (skullw), el largo de la cola (taill), la circunferencia del pecho (chest) y la de la panza (belly).\n"
   ]
  },
  {
   "cell_type": "markdown",
   "metadata": {
    "id": "FCmjIfne9VEx"
   },
   "source": [
    "# Clasificador M/H"
   ]
  },
  {
   "cell_type": "code",
   "execution_count": 5,
   "metadata": {
    "id": "6xZYiulo7z-l"
   },
   "outputs": [],
   "source": [
    "# Se elimina la columna de sexo en la tabla y se genera la nueva tabla X\n",
    "X = np.delete(data_num,3,1)\n",
    "\n",
    "# se crea el vector de features\n",
    "Y = data_num[:,3]"
   ]
  },
  {
   "cell_type": "markdown",
   "metadata": {
    "id": "P-9roYuyavG5"
   },
   "source": [
    "### PCA"
   ]
  },
  {
   "cell_type": "markdown",
   "metadata": {},
   "source": [
    "Escalamos los datos y aplicamos PCA"
   ]
  },
  {
   "cell_type": "code",
   "execution_count": 6,
   "metadata": {
    "id": "uXq6f_0pf9p3"
   },
   "outputs": [],
   "source": [
    "RANDOM_STATE = 20"
   ]
  },
  {
   "cell_type": "code",
   "execution_count": 7,
   "metadata": {
    "colab": {
     "base_uri": "https://localhost:8080/"
    },
    "id": "Kd9HELGqaud-",
    "outputId": "501cdd6a-9ce7-455d-b2ee-8347b31e13c1"
   },
   "outputs": [
    {
     "name": "stdout",
     "output_type": "stream",
     "text": [
      "6\n"
     ]
    }
   ],
   "source": [
    "TRAIN_SIZE = 0.8\n",
    "x_train,x_test, y_train, y_test =  train_test_split(X,Y,train_size = TRAIN_SIZE,shuffle =True,random_state=RANDOM_STATE)\n",
    "scaler = preprocessing.StandardScaler().fit(x_train)\n",
    "x_train_scaled = scaler.transform(x_train)\n",
    "x_test_scaled = scaler.transform(x_test)\n",
    "\n",
    "EXP_VAR_PER = 0.9\n",
    "pca = PCA(EXP_VAR_PER,random_state=RANDOM_STATE)\n",
    "pca.fit(x_train_scaled)\n",
    "print(len(pca.components_))"
   ]
  },
  {
   "cell_type": "code",
   "execution_count": 8,
   "metadata": {
    "colab": {
     "base_uri": "https://localhost:8080/",
     "height": 225
    },
    "id": "aBUwhzf-bvGO",
    "outputId": "4aa75180-871f-41df-8b75-c2cee0c2e978"
   },
   "outputs": [
    {
     "data": {
      "image/png": "[encoded data removed]",
      "text/plain": [
       "<Figure size 360x216 with 1 Axes>"
      ]
     },
     "metadata": {
      "needs_background": "light"
     },
     "output_type": "display_data"
    }
   ],
   "source": [
    "pca_2 = PCA(n_components=np.shape(x_train)[1], random_state=RANDOM_STATE).fit(x_train_scaled)\n",
    "\n",
    "plt.figure(figsize=(5,3))\n",
    "plt.plot(np.cumsum(pca_2.explained_variance_ratio_), color='k', lw=2)\n",
    "plt.xlabel('Cantidad de componentes')\n",
    "plt.ylabel('Total varianza contemplada')\n",
    "plt.xlim(0, np.shape(x_train)[1])\n",
    "plt.yticks(np.arange(0, 1.1, 0.1))\n",
    "plt.axvline(len(pca.components_), c='b')\n",
    "plt.axhline(EXP_VAR_PER, c='r')\n",
    "plt.show();"
   ]
  },
  {
   "cell_type": "markdown",
   "metadata": {},
   "source": [
    "6 componentes alcanzan para explicar el 90% de la varianza de los datos"
   ]
  },
  {
   "cell_type": "code",
   "execution_count": 9,
   "metadata": {
    "id": "0zRSCTVnd8-3"
   },
   "outputs": [],
   "source": [
    "# Separamos datos de training y test\n",
    "x_train_pca = pca.transform(x_train_scaled)\n",
    "x_test_pca = pca.transform(x_test_scaled)"
   ]
  },
  {
   "cell_type": "code",
   "execution_count": 10,
   "metadata": {
    "colab": {
     "base_uri": "https://localhost:8080/",
     "height": 336
    },
    "id": "r9SVd-OMissN",
    "outputId": "b78ddbd0-0ef7-4425-969e-7d96117a8577"
   },
   "outputs": [
    {
     "data": {
      "image/png": "[encoded data removed]",
      "text/plain": [
       "<Figure size 504x360 with 2 Axes>"
      ]
     },
     "metadata": {
      "needs_background": "light"
     },
     "output_type": "display_data"
    }
   ],
   "source": [
    "# Graficamos los primeros dos componentes\n",
    "plt.figure(figsize=(7,5))\n",
    "plt.scatter(x_train_pca[:, 0], x_train_pca[:, 1], c=y_train, edgecolor='none', alpha=0.7, s=40, cmap=plt.cm.get_cmap('viridis', 2))\n",
    "plt.colorbar()\n",
    "plt.title('POSSUM - PCA projection 2D');"
   ]
  },
  {
   "cell_type": "markdown",
   "metadata": {},
   "source": [
    "Lo que esperaríamos observar en esta visualización de componentes principales es una clara separación de las dos clases. En cambio se observa bastante superposición entre las distintas muestras."
   ]
  },
  {
   "cell_type": "markdown",
   "metadata": {
    "id": "cJMODkDYA0jW"
   },
   "source": [
    "## K-means"
   ]
  },
  {
   "cell_type": "markdown",
   "metadata": {},
   "source": [
    "Probamos clusterizar con k-means"
   ]
  },
  {
   "cell_type": "code",
   "execution_count": 11,
   "metadata": {
    "colab": {
     "base_uri": "https://localhost:8080/",
     "height": 447
    },
    "id": "XD-BnTzkC5Ok",
    "outputId": "92a005cf-f16b-41bb-f80c-bc9c4377e7f7"
   },
   "outputs": [
    {
     "name": "stdout",
     "output_type": "stream",
     "text": [
      "              precision    recall  f1-score   support\n",
      "\n",
      "         0.0       0.67      0.67      0.67         9\n",
      "         1.0       0.75      0.75      0.75        12\n",
      "\n",
      "    accuracy                           0.71        21\n",
      "   macro avg       0.71      0.71      0.71        21\n",
      "weighted avg       0.71      0.71      0.71        21\n",
      "\n"
     ]
    },
    {
     "data": {
      "image/png": "[encoded data removed]",
      "text/plain": [
       "<Figure size 432x288 with 2 Axes>"
      ]
     },
     "metadata": {
      "needs_background": "light"
     },
     "output_type": "display_data"
    }
   ],
   "source": [
    "# Clusterizamos, predecimos y generamos una matriz de confusión\n",
    "n_clusters = len(list(set(Y)))\n",
    "kmeans_model = KMeans(n_clusters,random_state = RANDOM_STATE)\n",
    "kmeans_model.fit(x_train_scaled)\n",
    "y_pred = kmeans_model.predict(x_test_scaled)\n",
    "cm = confusion_matrix(y_test, y_pred)\n",
    "disp = ConfusionMatrixDisplay(confusion_matrix=cm, display_labels = list(le_sex.classes_))\n",
    "disp.plot()\n",
    "print(classification_report(y_test, y_pred))\n"
   ]
  },
  {
   "cell_type": "markdown",
   "metadata": {
    "id": "Bh1AqrTdeMR_"
   },
   "source": [
    "## K-means with PCA"
   ]
  },
  {
   "cell_type": "code",
   "execution_count": 12,
   "metadata": {
    "colab": {
     "base_uri": "https://localhost:8080/",
     "height": 447
    },
    "id": "aMvdmFcveRnK",
    "outputId": "8498c8e0-354e-4fad-cb0e-9c99a3b18c6f"
   },
   "outputs": [
    {
     "name": "stdout",
     "output_type": "stream",
     "text": [
      "              precision    recall  f1-score   support\n",
      "\n",
      "         0.0       0.67      0.67      0.67         9\n",
      "         1.0       0.75      0.75      0.75        12\n",
      "\n",
      "    accuracy                           0.71        21\n",
      "   macro avg       0.71      0.71      0.71        21\n",
      "weighted avg       0.71      0.71      0.71        21\n",
      "\n"
     ]
    },
    {
     "data": {
      "image/png": "[encoded data removed]",
      "text/plain": [
       "<Figure size 432x288 with 2 Axes>"
      ]
     },
     "metadata": {
      "needs_background": "light"
     },
     "output_type": "display_data"
    }
   ],
   "source": [
    "n_clusters = len(list(set(Y)))\n",
    "kmeans_model = KMeans(n_clusters,random_state = RANDOM_STATE )\n",
    "kmeans_model.fit(x_train_pca)\n",
    "y_pred = kmeans_model.predict(x_test_pca)\n",
    "cm = confusion_matrix(y_test, y_pred)\n",
    "disp = ConfusionMatrixDisplay(confusion_matrix=cm, display_labels = list(le_sex.classes_))\n",
    "disp.plot()\n",
    "print(classification_report(y_test, y_pred))"
   ]
  },
  {
   "cell_type": "markdown",
   "metadata": {
    "id": "HoBuBPVhad6Q"
   },
   "source": [
    "### Observaciones\n",
    "\n",
    "Tanto aplicando PCA o no, usar k-means para clasificar la feature no tuvo un buen resultado."
   ]
  },
  {
   "cell_type": "markdown",
   "metadata": {
    "id": "5os7uAo7bKMr"
   },
   "source": [
    "## Regresión logística"
   ]
  },
  {
   "cell_type": "markdown",
   "metadata": {},
   "source": [
    "Como segundo método de clasificación vamos a aplicar regresión logística"
   ]
  },
  {
   "cell_type": "code",
   "execution_count": 13,
   "metadata": {
    "id": "Vmc69jqcefki"
   },
   "outputs": [],
   "source": [
    "RANDOM_STATE = 11"
   ]
  },
  {
   "cell_type": "code",
   "execution_count": 14,
   "metadata": {
    "colab": {
     "base_uri": "https://localhost:8080/",
     "height": 447
    },
    "id": "GV1Dir0ebNv6",
    "outputId": "a32afa8a-cc79-405d-d2c4-a3acd4584bb9"
   },
   "outputs": [
    {
     "name": "stdout",
     "output_type": "stream",
     "text": [
      "              precision    recall  f1-score   support\n",
      "\n",
      "         0.0       0.50      0.33      0.40         9\n",
      "         1.0       0.60      0.75      0.67        12\n",
      "\n",
      "    accuracy                           0.57        21\n",
      "   macro avg       0.55      0.54      0.53        21\n",
      "weighted avg       0.56      0.57      0.55        21\n",
      "\n"
     ]
    },
    {
     "data": {
      "image/png": "[encoded data removed]",
      "text/plain": [
       "<Figure size 432x288 with 2 Axes>"
      ]
     },
     "metadata": {
      "needs_background": "light"
     },
     "output_type": "display_data"
    }
   ],
   "source": [
    "# Aplicamos LR, predecimos y generamos una matriz de confusión\n",
    "rlog = LogisticRegression(solver = 'liblinear', penalty ='l1',random_state=RANDOM_STATE).fit(x_train_scaled,y_train)\n",
    "y_pred = rlog.predict(x_test_scaled)\n",
    "cm = confusion_matrix(y_test, y_pred)\n",
    "disp = ConfusionMatrixDisplay(confusion_matrix=cm, display_labels = list(le_sex.classes_))\n",
    "disp.plot()\n",
    "print(classification_report(y_test, y_pred))\n"
   ]
  },
  {
   "cell_type": "markdown",
   "metadata": {},
   "source": [
    "### Observaciones\n",
    "\n",
    "Comparado con k-means, la regresión logística no mejoró. En particular clasificó muy mal el sexo f (muchos FN)."
   ]
  },
  {
   "cell_type": "markdown",
   "metadata": {
    "id": "RwAxStMnqVxg"
   },
   "source": [
    "# Predicción \"Longitud Total\" (totlngth)"
   ]
  },
  {
   "cell_type": "code",
   "execution_count": 15,
   "metadata": {
    "id": "33e75HYbqY94"
   },
   "outputs": [],
   "source": [
    "# Se elimina la columna totlngth en la tabla y se genera la nueva tabla de features X\n",
    "X = np.delete(data_num,7,1)\n",
    "\n",
    "# Se crea el vector con los valores de totlngth\n",
    "Y = data_num[:,7]"
   ]
  },
  {
   "cell_type": "code",
   "execution_count": 16,
   "metadata": {
    "id": "IjZHQTCZsngm"
   },
   "outputs": [],
   "source": [
    "# Separo en train y test\n",
    "x_train, x_test, y_train, y_test =  train_test_split(X,Y,train_size = 0.8,shuffle =True,random_state=RANDOM_STATE)"
   ]
  },
  {
   "cell_type": "markdown",
   "metadata": {},
   "source": [
    "Vamos a probar predecir la longitud total con diferentes métodos. Al final, compararemos el MSE."
   ]
  },
  {
   "cell_type": "code",
   "execution_count": 17,
   "metadata": {
    "id": "lDATslBM6vGA"
   },
   "outputs": [],
   "source": [
    "metrics = []"
   ]
  },
  {
   "cell_type": "code",
   "execution_count": 18,
   "metadata": {
    "colab": {
     "base_uri": "https://localhost:8080/"
    },
    "id": "bRnQk9fAtoqS",
    "outputId": "527944d1-514e-4ad8-cd23-7125b45d5541"
   },
   "outputs": [
    {
     "data": {
      "text/plain": [
       "5.075045009235197"
      ]
     },
     "execution_count": 18,
     "metadata": {},
     "output_type": "execute_result"
    }
   ],
   "source": [
    "# Linear Regression\n",
    "lm = linear_model.LinearRegression()\n",
    "lm.fit(x_train, y_train)\n",
    "y_hat = lm.predict(x_test)\n",
    "mse = mean_squared_error(y_test, y_hat)\n",
    "metrics.append([\"LR\", mse])\n",
    "mse"
   ]
  },
  {
   "cell_type": "code",
   "execution_count": 19,
   "metadata": {
    "colab": {
     "base_uri": "https://localhost:8080/"
    },
    "id": "yDht_bmz_DEe",
    "outputId": "b611c3ab-3a22-4288-db0f-5a6164aa83d7"
   },
   "outputs": [
    {
     "data": {
      "text/plain": [
       "5.047923631953497"
      ]
     },
     "execution_count": 19,
     "metadata": {},
     "output_type": "execute_result"
    }
   ],
   "source": [
    "# Ridge Regression\n",
    "lmr = linear_model.Ridge(alpha=0.5)\n",
    "lmr.fit(x_train, y_train)\n",
    "y_hat = lmr.predict(x_test)\n",
    "mse = mean_squared_error(y_test, y_hat)\n",
    "metrics.append([\"Ridge\", mse])\n",
    "mse"
   ]
  },
  {
   "cell_type": "code",
   "execution_count": 20,
   "metadata": {
    "colab": {
     "base_uri": "https://localhost:8080/"
    },
    "id": "VLMhQw1aw8W7",
    "outputId": "992ec7ab-0e3e-4e7d-858a-54ba3b75cd5b"
   },
   "outputs": [
    {
     "data": {
      "text/plain": [
       "3.715571741055762"
      ]
     },
     "execution_count": 20,
     "metadata": {},
     "output_type": "execute_result"
    }
   ],
   "source": [
    "# Lasso Regression\n",
    "lml = linear_model.Lasso(alpha=0.5)\n",
    "lml.fit(x_train, y_train)\n",
    "y_hat = lml.predict(x_test)\n",
    "mse = mean_squared_error(y_test, y_hat)\n",
    "metrics.append([\"Lasso\", mse])\n",
    "mse"
   ]
  },
  {
   "cell_type": "markdown",
   "metadata": {
    "id": "HAcypB_n4Zbl"
   },
   "source": [
    "Vamos a probar una regresión para predecir totlngth a partir de hdlngth (que como se vio más arriba, es una de las que muestra una correlación alta con la feature a predecir). "
   ]
  },
  {
   "cell_type": "code",
   "execution_count": 21,
   "metadata": {
    "id": "894IqQBD6Om7"
   },
   "outputs": [],
   "source": [
    "# Feature hdlngth\n",
    "x_train_hd = x_train[:,5].reshape(-1, 1)\n",
    "x_test_hd = x_test[:,5].reshape(-1, 1)"
   ]
  },
  {
   "cell_type": "code",
   "execution_count": 22,
   "metadata": {
    "colab": {
     "base_uri": "https://localhost:8080/"
    },
    "id": "v5BuW_plxLOt",
    "outputId": "b6b182b5-a774-4bc8-8823-b2501982e1ae"
   },
   "outputs": [
    {
     "data": {
      "text/plain": [
       "6.947436096974656"
      ]
     },
     "execution_count": 22,
     "metadata": {},
     "output_type": "execute_result"
    }
   ],
   "source": [
    "# Linear Regression hdlngth + totlngth\n",
    "lm = linear_model.LinearRegression()\n",
    "lm.fit(x_train_hd, y_train)\n",
    "y_hat = lm.predict(x_test_hd)\n",
    "mse = mean_squared_error(y_test, y_hat)\n",
    "metrics.append([\"LR hd\", mse])\n",
    "mse"
   ]
  },
  {
   "cell_type": "code",
   "execution_count": 23,
   "metadata": {
    "colab": {
     "base_uri": "https://localhost:8080/"
    },
    "id": "0xbFLX-x6M_l",
    "outputId": "aa072ddc-e8ba-463e-fbe2-f50814c8c9e2"
   },
   "outputs": [
    {
     "data": {
      "text/plain": [
       "7.196666908377215"
      ]
     },
     "execution_count": 23,
     "metadata": {},
     "output_type": "execute_result"
    }
   ],
   "source": [
    "# Lasso Regression\n",
    "lmr = linear_model.Lasso(alpha=0.5)\n",
    "lmr.fit(x_train_hd, y_train)\n",
    "y_hat2 = lmr.predict(x_test_hd)\n",
    "mse = mean_squared_error(y_test, y_hat2)\n",
    "metrics.append([\"Lasso hd\", mse])\n",
    "mse"
   ]
  },
  {
   "cell_type": "code",
   "execution_count": 24,
   "metadata": {
    "colab": {
     "base_uri": "https://localhost:8080/",
     "height": 265
    },
    "id": "n7PQosV40cwE",
    "outputId": "aab73cc5-a167-4d05-f13b-290ca6c5e07d"
   },
   "outputs": [
    {
     "data": {
      "image/png": "[encoded data removed]",
      "text/plain": [
       "<Figure size 432x288 with 1 Axes>"
      ]
     },
     "metadata": {
      "needs_background": "light"
     },
     "output_type": "display_data"
    }
   ],
   "source": [
    "# Plot outputs - Comparación Ridge vs Lasso\n",
    "plt.scatter(x_test_hd, y_test, color=\"black\")\n",
    "plt.plot(x_test_hd, y_hat, color=\"blue\", linewidth=2)\n",
    "plt.plot(x_test_hd, y_hat2, color=\"orange\", linewidth=2)\n",
    "\n",
    "plt.show()"
   ]
  },
  {
   "cell_type": "markdown",
   "metadata": {
    "id": "iQtJdnzg3Aic"
   },
   "source": [
    "### Observaciones\n",
    "\n",
    "- Una sola feature no es suficiente para predecir totlgth.\n",
    "- No se observan diferencias entre Ridge y Lasso.\n"
   ]
  },
  {
   "cell_type": "markdown",
   "metadata": {},
   "source": [
    "### PCA"
   ]
  },
  {
   "cell_type": "markdown",
   "metadata": {},
   "source": [
    "Probamos ahora PCA para reducir dimensionalidad y volver a intentar una regresión para predecir totlngth."
   ]
  },
  {
   "cell_type": "code",
   "execution_count": 25,
   "metadata": {
    "colab": {
     "base_uri": "https://localhost:8080/"
    },
    "id": "z6bIHrzI3H4y",
    "outputId": "94db1f3d-2d25-4ad4-9384-ad03277ce41b"
   },
   "outputs": [
    {
     "data": {
      "text/plain": [
       "7"
      ]
     },
     "execution_count": 25,
     "metadata": {},
     "output_type": "execute_result"
    }
   ],
   "source": [
    "scaler = StandardScaler()\n",
    "X_scaled = scaler.fit_transform(X)\n",
    "pca = PCA(n_components=0.9).fit(X_scaled)\n",
    "X_pca = pca.transform(X_scaled)\n",
    "\n",
    "# Cantidad de componentes necesarios para explicar el 90% de la varianza\n",
    "X_pca.shape[1]"
   ]
  },
  {
   "cell_type": "code",
   "execution_count": 26,
   "metadata": {
    "id": "F7l_0Jnr3eGs"
   },
   "outputs": [],
   "source": [
    "# Separo en train y test el dataset reducido\n",
    "x_pca_train, x_pca_test, y_pca_train, y_pca_test =  train_test_split(X_pca,Y,train_size = 0.8,shuffle =True,random_state=RANDOM_STATE)"
   ]
  },
  {
   "cell_type": "code",
   "execution_count": 27,
   "metadata": {
    "colab": {
     "base_uri": "https://localhost:8080/"
    },
    "id": "Nx4i_R5m4LbJ",
    "outputId": "b48a7298-7178-49f4-b9a6-8fad54035025"
   },
   "outputs": [
    {
     "data": {
      "text/plain": [
       "4.392464629744086"
      ]
     },
     "execution_count": 27,
     "metadata": {},
     "output_type": "execute_result"
    }
   ],
   "source": [
    "# Linear Regression\n",
    "lm = linear_model.LinearRegression()\n",
    "lm.fit(x_pca_train, y_pca_train)\n",
    "y_hat = lm.predict(x_pca_test)\n",
    "mse = mean_squared_error(y_pca_test, y_hat)\n",
    "metrics.append([\"LR + PCA\", mse])\n",
    "mse"
   ]
  },
  {
   "cell_type": "markdown",
   "metadata": {},
   "source": [
    "### Comparamos los resultados"
   ]
  },
  {
   "cell_type": "code",
   "execution_count": 28,
   "metadata": {
    "colab": {
     "base_uri": "https://localhost:8080/",
     "height": 238
    },
    "id": "1FN_xZGG8a9x",
    "outputId": "9eabf0fd-cb13-4615-fa03-9e73fb758615"
   },
   "outputs": [
    {
     "data": {
      "text/html": [
       "<div>\n",
       "<style scoped>\n",
       "    .dataframe tbody tr th:only-of-type {\n",
       "        vertical-align: middle;\n",
       "    }\n",
       "\n",
       "    .dataframe tbody tr th {\n",
       "        vertical-align: top;\n",
       "    }\n",
       "\n",
       "    .dataframe thead th {\n",
       "        text-align: right;\n",
       "    }\n",
       "</style>\n",
       "<table border=\"1\" class=\"dataframe\">\n",
       "  <thead>\n",
       "    <tr style=\"text-align: right;\">\n",
       "      <th></th>\n",
       "      <th>caso</th>\n",
       "      <th>mse</th>\n",
       "    </tr>\n",
       "  </thead>\n",
       "  <tbody>\n",
       "    <tr>\n",
       "      <th>0</th>\n",
       "      <td>LR</td>\n",
       "      <td>5.075045</td>\n",
       "    </tr>\n",
       "    <tr>\n",
       "      <th>1</th>\n",
       "      <td>Ridge</td>\n",
       "      <td>5.047924</td>\n",
       "    </tr>\n",
       "    <tr>\n",
       "      <th>2</th>\n",
       "      <td>Lasso</td>\n",
       "      <td>3.715572</td>\n",
       "    </tr>\n",
       "    <tr>\n",
       "      <th>3</th>\n",
       "      <td>LR hd</td>\n",
       "      <td>6.947436</td>\n",
       "    </tr>\n",
       "    <tr>\n",
       "      <th>4</th>\n",
       "      <td>Lasso hd</td>\n",
       "      <td>7.196667</td>\n",
       "    </tr>\n",
       "    <tr>\n",
       "      <th>5</th>\n",
       "      <td>LR + PCA</td>\n",
       "      <td>4.392465</td>\n",
       "    </tr>\n",
       "  </tbody>\n",
       "</table>\n",
       "</div>"
      ],
      "text/plain": [
       "       caso       mse\n",
       "0        LR  5.075045\n",
       "1     Ridge  5.047924\n",
       "2     Lasso  3.715572\n",
       "3     LR hd  6.947436\n",
       "4  Lasso hd  7.196667\n",
       "5  LR + PCA  4.392465"
      ]
     },
     "execution_count": 28,
     "metadata": {},
     "output_type": "execute_result"
    }
   ],
   "source": [
    "df = pd.DataFrame(metrics, columns=['caso', 'mse'])\n",
    "df"
   ]
  },
  {
   "cell_type": "code",
   "execution_count": 29,
   "metadata": {
    "colab": {
     "base_uri": "https://localhost:8080/",
     "height": 282
    },
    "id": "CQQ6I7mTDvy4",
    "outputId": "b5f8fece-25a1-4de7-823c-b7a5e33fdf37"
   },
   "outputs": [
    {
     "data": {
      "text/plain": [
       "<AxesSubplot:ylabel='caso'>"
      ]
     },
     "execution_count": 29,
     "metadata": {},
     "output_type": "execute_result"
    },
    {
     "data": {
      "image/png": "[encoded data removed]",
      "text/plain": [
       "<Figure size 432x288 with 1 Axes>"
      ]
     },
     "metadata": {
      "needs_background": "light"
     },
     "output_type": "display_data"
    }
   ],
   "source": [
    "df.plot(kind='barh',x='caso',y='mse')"
   ]
  },
  {
   "cell_type": "markdown",
   "metadata": {},
   "source": [
    "### Observaciones\n",
    "El menor MSE se obtuvo al aplicar regresión lineal usando todos los componentes, en particular, Lasso Regression dio los mejores resultados."
   ]
  },
  {
   "cell_type": "code",
   "execution_count": null,
   "metadata": {},
   "outputs": [],
   "source": []
  }
 ],
 "metadata": {
  "colab": {
   "collapsed_sections": [],
   "name": "TP Final 5co2022 - María Carina Roldán + Eloy Zerbatto Diaz.ipynb",
   "provenance": []
  },
  "kernelspec": {
   "display_name": "Python 3 (ipykernel)",
   "language": "python",
   "name": "python3"
  },
  "language_info": {
   "codemirror_mode": {
    "name": "ipython",
    "version": 3
   },
   "file_extension": ".py",
   "mimetype": "text/x-python",
   "name": "python",
   "nbconvert_exporter": "python",
   "pygments_lexer": "ipython3",
   "version": "3.8.10"
  }
 },
 "nbformat": 4,
 "nbformat_minor": 1
}
